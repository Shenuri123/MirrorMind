{
 "cells": [
  {
   "cell_type": "markdown",
   "source": [],
   "metadata": {
    "collapsed": false
   }
  },
  {
   "cell_type": "code",
   "execution_count": 3,
   "metadata": {
    "executionInfo": {
     "elapsed": 1359,
     "status": "ok",
     "timestamp": 1692110504486,
     "user": {
      "displayName": "M. Maduranga",
      "userId": "17457890108800649825"
     },
     "user_tz": -330
    },
    "id": "scjxUANSwekz"
   },
   "outputs": [],
   "source": [
    "import numpy as np\n",
    "import tensorflow as tf\n",
    "from keras.preprocessing.text import Tokenizer\n",
    "from keras.utils import pad_sequences\n",
    "import pandas as pd\n",
    "from sklearn.preprocessing import LabelEncoder\n",
    "from sklearn.metrics import classification_report ,confusion_matrix,accuracy_score\n",
    "from keras.callbacks import ModelCheckpoint, EarlyStopping\n",
    "from keras.layers import Dense, ReLU ,BatchNormalization, Dropout ,MaxPooling1D, Conv1D,Flatten,LSTM\n",
    "from keras.optimizers import Adam\n",
    "import pickle\n",
    "from keras.preprocessing.text import Tokenizer"
   ]
  },
  {
   "cell_type": "code",
   "execution_count": 4,
   "metadata": {
    "executionInfo": {
     "elapsed": 9402,
     "status": "ok",
     "timestamp": 1692110513884,
     "user": {
      "displayName": "M. Maduranga",
      "userId": "17457890108800649825"
     },
     "user_tz": -330
    },
    "id": "EcI3TLSCsn0A",
    "colab": {
     "base_uri": "https://localhost:8080/"
    },
    "outputId": "7b802a20-2e28-453f-e75f-5ff06500b2a4"
   },
   "outputs": [
    {
     "output_type": "stream",
     "name": "stdout",
     "text": [
      "<class 'pandas.core.frame.DataFrame'>\n",
      "Int64Index: 360237 entries, 0 to 51722\n",
      "Data columns (total 2 columns):\n",
      " #   Column        Non-Null Count   Dtype \n",
      "---  ------        --------------   ----- \n",
      " 0   level         360237 non-null  object\n",
      " 1   prepros_text  360237 non-null  object\n",
      "dtypes: object(2)\n",
      "memory usage: 8.2+ MB\n"
     ]
    }
   ],
   "source": [
    "df=pd.read_parquet('/content/drive/MyDrive/silverline/MirrorMind/questionnaire/data_prepros.parquet')\n",
    "df.info()"
   ]
  },
  {
   "cell_type": "code",
   "execution_count": 5,
   "metadata": {
    "colab": {
     "base_uri": "https://localhost:8080/"
    },
    "executionInfo": {
     "elapsed": 25,
     "status": "ok",
     "timestamp": 1692110513884,
     "user": {
      "displayName": "M. Maduranga",
      "userId": "17457890108800649825"
     },
     "user_tz": -330
    },
    "id": "acTnMFGSf1sw",
    "outputId": "6f875e03-211c-4a39-b50a-77024fb7687d"
   },
   "outputs": [
    {
     "output_type": "execute_result",
     "data": {
      "text/plain": [
       "moderate    189695\n",
       "mild        121103\n",
       "minimal      26574\n",
       "severe       22865\n",
       "Name: level, dtype: int64"
      ]
     },
     "metadata": {},
     "execution_count": 5
    }
   ],
   "source": [
    "df['level'].value_counts()"
   ]
  },
  {
   "cell_type": "code",
   "source": [
    "df_final=df[df['level']=='moderate'].iloc[:30000,]\n",
    "df_final=df_final.append(df[df['level']=='mild'].iloc[:30000,])\n",
    "print(df_final.shape)\n",
    "df_final=df_final.append(df[df['level']=='minimal'])\n",
    "print(df_final.shape)\n",
    "df_final=df_final.append(df[df['level']=='severe'])\n",
    "print(df_final.shape)"
   ],
   "metadata": {
    "colab": {
     "base_uri": "https://localhost:8080/"
    },
    "id": "-SawiyFHYgUc",
    "executionInfo": {
     "status": "ok",
     "timestamp": 1692110513885,
     "user_tz": -330,
     "elapsed": 24,
     "user": {
      "displayName": "M. Maduranga",
      "userId": "17457890108800649825"
     }
    },
    "outputId": "a532b42f-56cf-40b5-e8d2-50efd83bccab"
   },
   "execution_count": 6,
   "outputs": [
    {
     "output_type": "stream",
     "name": "stdout",
     "text": [
      "(60000, 2)\n",
      "(86574, 2)\n",
      "(109439, 2)\n"
     ]
    },
    {
     "output_type": "stream",
     "name": "stderr",
     "text": [
      "<ipython-input-6-3b4c19f9f22b>:2: FutureWarning: The frame.append method is deprecated and will be removed from pandas in a future version. Use pandas.concat instead.\n",
      "  df_final=df_final.append(df[df['level']=='mild'].iloc[:30000,])\n",
      "<ipython-input-6-3b4c19f9f22b>:4: FutureWarning: The frame.append method is deprecated and will be removed from pandas in a future version. Use pandas.concat instead.\n",
      "  df_final=df_final.append(df[df['level']=='minimal'])\n",
      "<ipython-input-6-3b4c19f9f22b>:6: FutureWarning: The frame.append method is deprecated and will be removed from pandas in a future version. Use pandas.concat instead.\n",
      "  df_final=df_final.append(df[df['level']=='severe'])\n"
     ]
    }
   ]
  },
  {
   "cell_type": "code",
   "source": [
    "df_final['prepros_text'].iloc[0]"
   ],
   "metadata": {
    "colab": {
     "base_uri": "https://localhost:8080/",
     "height": 140
    },
    "id": "xkEx1yUisspy",
    "executionInfo": {
     "status": "ok",
     "timestamp": 1692110513885,
     "user_tz": -330,
     "elapsed": 22,
     "user": {
      "displayName": "M. Maduranga",
      "userId": "17457890108800649825"
     }
    },
    "outputId": "beeb72f4-78e6-4485-efcc-e10307b394c7"
   },
   "execution_count": 7,
   "outputs": [
    {
     "output_type": "execute_result",
     "data": {
      "text/plain": [
       "'would describe emotional state blue sad time cant snap sad unhappy quite painfulhow would describe overall outlook future feel nothing look forward towhat overall perception accomplishment failure life feel accomplished little worthwhile mean anything look back life see lot failureswhat level self worth believe currently posse feel quite guilty feel bad unworthy practically time nowhow would describe emotion considering possibility something bad happening feel punished punishedhow feel make mistake fail disgusted myselfthe extent current thought self harm suicide feel would better dead feel family would better deadwhat best describes current level irritation annoyance feel irritated time nowhow would rate ability approach making decision great difficulty making decisionshow feel current appearance change might noticed time feel permanent change appearance make look unattractivehow would describe current level motivation ability perform task push hard anythingwhat current level satisfaction various aspect life dont get satisfaction anything'"
      ],
      "application/vnd.google.colaboratory.intrinsic+json": {
       "type": "string"
      }
     },
     "metadata": {},
     "execution_count": 7
    }
   ]
  },
  {
   "cell_type": "code",
   "source": [
    "len(df['prepros_text'].iloc[0].split())"
   ],
   "metadata": {
    "colab": {
     "base_uri": "https://localhost:8080/"
    },
    "id": "CpNW3RiDtIBp",
    "executionInfo": {
     "status": "ok",
     "timestamp": 1692110513886,
     "user_tz": -330,
     "elapsed": 20,
     "user": {
      "displayName": "M. Maduranga",
      "userId": "17457890108800649825"
     }
    },
    "outputId": "2d2fce49-db25-490b-9825-924639ac5160"
   },
   "execution_count": 8,
   "outputs": [
    {
     "output_type": "execute_result",
     "data": {
      "text/plain": [
       "114"
      ]
     },
     "metadata": {},
     "execution_count": 8
    }
   ]
  },
  {
   "cell_type": "code",
   "execution_count": 9,
   "metadata": {
    "executionInfo": {
     "elapsed": 18,
     "status": "ok",
     "timestamp": 1692110513886,
     "user": {
      "displayName": "M. Maduranga",
      "userId": "17457890108800649825"
     },
     "user_tz": -330
    },
    "id": "ldY5haWx1u93"
   },
   "outputs": [],
   "source": [
    "checkpoint=ModelCheckpoint(\n",
    "    '/content/drive/MyDrive/silverline/MirrorMind/questionnaire/model.h5',\n",
    "    monitor='val_loss',\n",
    "    mode='min',\n",
    "    save_best_only=True,\n",
    ")\n",
    "stop = EarlyStopping(\n",
    "    monitor='val_loss',\n",
    "    patience=10,\n",
    "    mode='min',\n",
    ")"
   ]
  },
  {
   "cell_type": "code",
   "execution_count": 10,
   "metadata": {
    "id": "xwJo4TZvwleG",
    "executionInfo": {
     "status": "ok",
     "timestamp": 1692110535867,
     "user_tz": -330,
     "elapsed": 21999,
     "user": {
      "displayName": "M. Maduranga",
      "userId": "17457890108800649825"
     }
    }
   },
   "outputs": [],
   "source": [
    "tokenizer = Tokenizer()\n",
    "tokenizer.fit_on_texts(df_final['prepros_text'])\n",
    "sequences = tokenizer.texts_to_sequences(df_final['prepros_text'])\n",
    "X= pad_sequences(sequences, maxlen=150)\n",
    "\n",
    "\n",
    "\n",
    "with open('/content/drive/MyDrive/silverline/MirrorMind/questionnaire/tokenizer.pickle', 'wb') as handle:\n",
    "    pickle.dump(tokenizer, handle, protocol=pickle.HIGHEST_PROTOCOL)\n"
   ]
  },
  {
   "cell_type": "code",
   "execution_count": 11,
   "metadata": {
    "colab": {
     "base_uri": "https://localhost:8080/"
    },
    "id": "7oHRq2g8Z6l4",
    "executionInfo": {
     "status": "ok",
     "timestamp": 1692110535868,
     "user_tz": -330,
     "elapsed": 26,
     "user": {
      "displayName": "M. Maduranga",
      "userId": "17457890108800649825"
     }
    },
    "outputId": "6e52ca3c-52b1-4404-ccf7-1494123753f4"
   },
   "outputs": [
    {
     "output_type": "execute_result",
     "data": {
      "text/plain": [
       "array([  0,   0,   0,   0,   0,   0,   0,   0,   2,   4,  27,  28, 164,\n",
       "        26,  12,  66, 165,  26, 163, 109, 166,   2,   4,   8,  29,  16,\n",
       "         1, 161,  61, 162,  86,   8,  30,  31,  25,   7,   1, 141, 142,\n",
       "       143, 144,  73,  61, 145,   7, 146, 147, 148,   5,   9,  32,  33,\n",
       "        34,  35,   1, 109, 139,   1,  11,  75, 140,  12,  74,   2,   4,\n",
       "        36,  37,  38,  14,  11,  39,   1,  79,  63,   1,  13,  40,  41,\n",
       "        94,  42,  43,   3,  18,   9,  44,  20,   1,   2,  69, 116,   1,\n",
       "       117,   2,  69, 118,  45,  46,   3,   5,  47,  48,   1,  49,  12,\n",
       "        74,   2,  50,  10,  51,  15,  17, 114, 115,  15,  70,   1,   3,\n",
       "        22,  23,  52,  53,  12,   1, 113,  23,  22,  13,  61,  71,   2,\n",
       "         4,   3,   5,  54,  10,  55,  56, 110, 111, 112,   3,   5,  21,\n",
       "        57,  58,   7,   6,  19,  21,  73], dtype=int32)"
      ]
     },
     "metadata": {},
     "execution_count": 11
    }
   ],
   "source": [
    "X[0]"
   ]
  },
  {
   "cell_type": "code",
   "execution_count": 12,
   "metadata": {
    "id": "ii1pWoU7yAK_",
    "colab": {
     "base_uri": "https://localhost:8080/"
    },
    "executionInfo": {
     "status": "ok",
     "timestamp": 1692110537906,
     "user_tz": -330,
     "elapsed": 11,
     "user": {
      "displayName": "M. Maduranga",
      "userId": "17457890108800649825"
     }
    },
    "outputId": "70d89ff9-f156-4a07-c632-b4a633d0e24d"
   },
   "outputs": [
    {
     "output_type": "execute_result",
     "data": {
      "text/plain": [
       "array([[0., 0., 1., 0.],\n",
       "       [0., 0., 1., 0.],\n",
       "       [0., 0., 1., 0.],\n",
       "       ...,\n",
       "       [0., 0., 0., 1.],\n",
       "       [0., 0., 0., 1.],\n",
       "       [0., 0., 0., 1.]], dtype=float32)"
      ]
     },
     "metadata": {},
     "execution_count": 12
    }
   ],
   "source": [
    "label_encoder = LabelEncoder()\n",
    "num=len(df_final['level'].unique())\n",
    "\n",
    "encoded_labels = label_encoder.fit_transform(df_final['level'])\n",
    "y = tf.keras.utils.to_categorical(encoded_labels, num_classes=num)\n",
    "y"
   ]
  },
  {
   "cell_type": "code",
   "source": [
    "label_encoder.classes_"
   ],
   "metadata": {
    "colab": {
     "base_uri": "https://localhost:8080/"
    },
    "id": "lXN7Nz3zpUCV",
    "executionInfo": {
     "status": "ok",
     "timestamp": 1692110654942,
     "user_tz": -330,
     "elapsed": 719,
     "user": {
      "displayName": "M. Maduranga",
      "userId": "17457890108800649825"
     }
    },
    "outputId": "8a3961b8-a9d0-4b6e-b3d0-b264686e28ec"
   },
   "execution_count": 16,
   "outputs": [
    {
     "output_type": "execute_result",
     "data": {
      "text/plain": [
       "array(['mild', 'minimal', 'moderate', 'severe'], dtype=object)"
      ]
     },
     "metadata": {},
     "execution_count": 16
    }
   ]
  },
  {
   "cell_type": "code",
   "source": [
    "from sklearn.model_selection import train_test_split\n",
    "\n",
    "X_train, X_test, y_train, y_test = train_test_split(X, y, test_size=0.1, random_state=42)"
   ],
   "metadata": {
    "id": "WYWQTpQKuSiL"
   },
   "execution_count": null,
   "outputs": []
  },
  {
   "cell_type": "code",
   "execution_count": null,
   "metadata": {
    "id": "gW-n9KK0vf0M"
   },
   "outputs": [],
   "source": [
    "model = tf.keras.models.Sequential([\n",
    "    Conv1D(128, kernel_size=2, input_shape=(X_train.shape[1], 1)),\n",
    "    BatchNormalization(),\n",
    "    ReLU(),\n",
    "    MaxPooling1D(pool_size=2),\n",
    "    Conv1D(256, kernel_size=3),\n",
    "    BatchNormalization(),\n",
    "    ReLU(),\n",
    "    MaxPooling1D(pool_size=2),\n",
    "    Conv1D(256, kernel_size=3),\n",
    "    BatchNormalization(),\n",
    "    ReLU(),\n",
    "    MaxPooling1D(pool_size=2),\n",
    "    LSTM(256,return_sequences=True),\n",
    "    LSTM(512),\n",
    "    Flatten(),\n",
    "    Dense(512),\n",
    "    BatchNormalization(),\n",
    "    ReLU(),\n",
    "    Dropout(0.5),\n",
    "    Dense(256),\n",
    "    BatchNormalization(),\n",
    "    ReLU(),\n",
    "    Dense(128),\n",
    "    BatchNormalization(),\n",
    "    ReLU(),\n",
    "    Dropout(0.5),\n",
    "    Dense(64),\n",
    "    BatchNormalization(),\n",
    "    ReLU(),\n",
    "    Dense(num, activation='softmax')\n",
    "])\n",
    "\n",
    "\n",
    "model.compile(optimizer=Adam(learning_rate=0.0001),\n",
    "              loss='categorical_crossentropy',\n",
    "              metrics=['accuracy'])\n"
   ]
  },
  {
   "cell_type": "code",
   "execution_count": null,
   "metadata": {
    "colab": {
     "base_uri": "https://localhost:8080/"
    },
    "executionInfo": {
     "elapsed": 16,
     "status": "ok",
     "timestamp": 1692020349532,
     "user": {
      "displayName": "M. Maduranga",
      "userId": "17457890108800649825"
     },
     "user_tz": -330
    },
    "id": "yDqRZYKq4cpK",
    "outputId": "4e2e42d7-26f9-456b-f9fa-25ba7c582956"
   },
   "outputs": [
    {
     "output_type": "stream",
     "name": "stdout",
     "text": [
      "Model: \"sequential_1\"\n",
      "_________________________________________________________________\n",
      " Layer (type)                Output Shape              Param #   \n",
      "=================================================================\n",
      " conv1d_3 (Conv1D)           (None, 149, 128)          384       \n",
      "                                                                 \n",
      " batch_normalization_7 (Batc  (None, 149, 128)         512       \n",
      " hNormalization)                                                 \n",
      "                                                                 \n",
      " re_lu_7 (ReLU)              (None, 149, 128)          0         \n",
      "                                                                 \n",
      " max_pooling1d_3 (MaxPooling  (None, 74, 128)          0         \n",
      " 1D)                                                             \n",
      "                                                                 \n",
      " conv1d_4 (Conv1D)           (None, 72, 256)           98560     \n",
      "                                                                 \n",
      " batch_normalization_8 (Batc  (None, 72, 256)          1024      \n",
      " hNormalization)                                                 \n",
      "                                                                 \n",
      " re_lu_8 (ReLU)              (None, 72, 256)           0         \n",
      "                                                                 \n",
      " max_pooling1d_4 (MaxPooling  (None, 36, 256)          0         \n",
      " 1D)                                                             \n",
      "                                                                 \n",
      " conv1d_5 (Conv1D)           (None, 34, 256)           196864    \n",
      "                                                                 \n",
      " batch_normalization_9 (Batc  (None, 34, 256)          1024      \n",
      " hNormalization)                                                 \n",
      "                                                                 \n",
      " re_lu_9 (ReLU)              (None, 34, 256)           0         \n",
      "                                                                 \n",
      " max_pooling1d_5 (MaxPooling  (None, 17, 256)          0         \n",
      " 1D)                                                             \n",
      "                                                                 \n",
      " lstm_2 (LSTM)               (None, 17, 256)           525312    \n",
      "                                                                 \n",
      " lstm_3 (LSTM)               (None, 512)               1574912   \n",
      "                                                                 \n",
      " flatten_1 (Flatten)         (None, 512)               0         \n",
      "                                                                 \n",
      " dense_5 (Dense)             (None, 512)               262656    \n",
      "                                                                 \n",
      " batch_normalization_10 (Bat  (None, 512)              2048      \n",
      " chNormalization)                                                \n",
      "                                                                 \n",
      " re_lu_10 (ReLU)             (None, 512)               0         \n",
      "                                                                 \n",
      " dropout_2 (Dropout)         (None, 512)               0         \n",
      "                                                                 \n",
      " dense_6 (Dense)             (None, 256)               131328    \n",
      "                                                                 \n",
      " batch_normalization_11 (Bat  (None, 256)              1024      \n",
      " chNormalization)                                                \n",
      "                                                                 \n",
      " re_lu_11 (ReLU)             (None, 256)               0         \n",
      "                                                                 \n",
      " dense_7 (Dense)             (None, 128)               32896     \n",
      "                                                                 \n",
      " batch_normalization_12 (Bat  (None, 128)              512       \n",
      " chNormalization)                                                \n",
      "                                                                 \n",
      " re_lu_12 (ReLU)             (None, 128)               0         \n",
      "                                                                 \n",
      " dropout_3 (Dropout)         (None, 128)               0         \n",
      "                                                                 \n",
      " dense_8 (Dense)             (None, 64)                8256      \n",
      "                                                                 \n",
      " batch_normalization_13 (Bat  (None, 64)               256       \n",
      " chNormalization)                                                \n",
      "                                                                 \n",
      " re_lu_13 (ReLU)             (None, 64)                0         \n",
      "                                                                 \n",
      " dense_9 (Dense)             (None, 4)                 260       \n",
      "                                                                 \n",
      "=================================================================\n",
      "Total params: 2,837,828\n",
      "Trainable params: 2,834,628\n",
      "Non-trainable params: 3,200\n",
      "_________________________________________________________________\n"
     ]
    }
   ],
   "source": [
    "model.summary()"
   ]
  },
  {
   "cell_type": "code",
   "execution_count": null,
   "metadata": {
    "colab": {
     "base_uri": "https://localhost:8080/"
    },
    "executionInfo": {
     "elapsed": 1515824,
     "status": "ok",
     "timestamp": 1692021865350,
     "user": {
      "displayName": "M. Maduranga",
      "userId": "17457890108800649825"
     },
     "user_tz": -330
    },
    "id": "WzXoQ7PJ4fQN",
    "outputId": "c2d0fe97-e853-4ec9-c88f-febfc9b7bb3a"
   },
   "outputs": [
    {
     "output_type": "stream",
     "name": "stdout",
     "text": [
      "Epoch 1/100\n",
      "693/693 [==============================] - 29s 35ms/step - loss: 0.3269 - accuracy: 0.8950 - val_loss: 0.1831 - val_accuracy: 0.9422\n",
      "Epoch 2/100\n",
      "693/693 [==============================] - 21s 30ms/step - loss: 0.1313 - accuracy: 0.9550 - val_loss: 0.1097 - val_accuracy: 0.9560\n",
      "Epoch 3/100\n",
      "693/693 [==============================] - 22s 31ms/step - loss: 0.0868 - accuracy: 0.9695 - val_loss: 0.0625 - val_accuracy: 0.9752\n",
      "Epoch 4/100\n",
      "693/693 [==============================] - 20s 28ms/step - loss: 0.0714 - accuracy: 0.9745 - val_loss: 0.1176 - val_accuracy: 0.9545\n",
      "Epoch 5/100\n",
      "693/693 [==============================] - 20s 29ms/step - loss: 0.0588 - accuracy: 0.9778 - val_loss: 0.0463 - val_accuracy: 0.9790\n",
      "Epoch 6/100\n",
      "693/693 [==============================] - 21s 30ms/step - loss: 0.0510 - accuracy: 0.9812 - val_loss: 0.0238 - val_accuracy: 0.9904\n",
      "Epoch 7/100\n",
      "693/693 [==============================] - 19s 28ms/step - loss: 0.0461 - accuracy: 0.9830 - val_loss: 0.0807 - val_accuracy: 0.9607\n",
      "Epoch 8/100\n",
      "693/693 [==============================] - 20s 29ms/step - loss: 0.0374 - accuracy: 0.9863 - val_loss: 0.0251 - val_accuracy: 0.9890\n",
      "Epoch 9/100\n",
      "693/693 [==============================] - 21s 30ms/step - loss: 0.0352 - accuracy: 0.9871 - val_loss: 0.0223 - val_accuracy: 0.9932\n",
      "Epoch 10/100\n",
      "693/693 [==============================] - 21s 30ms/step - loss: 0.0340 - accuracy: 0.9870 - val_loss: 0.0208 - val_accuracy: 0.9916\n",
      "Epoch 11/100\n",
      "693/693 [==============================] - 21s 30ms/step - loss: 0.0286 - accuracy: 0.9891 - val_loss: 0.0160 - val_accuracy: 0.9941\n",
      "Epoch 12/100\n",
      "693/693 [==============================] - 20s 28ms/step - loss: 0.0283 - accuracy: 0.9895 - val_loss: 0.0344 - val_accuracy: 0.9888\n",
      "Epoch 13/100\n",
      "693/693 [==============================] - 20s 29ms/step - loss: 0.0248 - accuracy: 0.9910 - val_loss: 0.0178 - val_accuracy: 0.9930\n",
      "Epoch 14/100\n",
      "693/693 [==============================] - 19s 27ms/step - loss: 0.0232 - accuracy: 0.9914 - val_loss: 0.0170 - val_accuracy: 0.9932\n",
      "Epoch 15/100\n",
      "693/693 [==============================] - 20s 29ms/step - loss: 0.0237 - accuracy: 0.9913 - val_loss: 0.0109 - val_accuracy: 0.9955\n",
      "Epoch 16/100\n",
      "693/693 [==============================] - 21s 30ms/step - loss: 0.0227 - accuracy: 0.9916 - val_loss: 0.0094 - val_accuracy: 0.9964\n",
      "Epoch 17/100\n",
      "693/693 [==============================] - 19s 27ms/step - loss: 0.0177 - accuracy: 0.9930 - val_loss: 0.0382 - val_accuracy: 0.9863\n",
      "Epoch 18/100\n",
      "693/693 [==============================] - 20s 29ms/step - loss: 0.0174 - accuracy: 0.9934 - val_loss: 0.0139 - val_accuracy: 0.9934\n",
      "Epoch 19/100\n",
      "693/693 [==============================] - 20s 28ms/step - loss: 0.0172 - accuracy: 0.9936 - val_loss: 0.0311 - val_accuracy: 0.9859\n",
      "Epoch 20/100\n",
      "693/693 [==============================] - 19s 27ms/step - loss: 0.0162 - accuracy: 0.9940 - val_loss: 0.0162 - val_accuracy: 0.9936\n",
      "Epoch 21/100\n",
      "693/693 [==============================] - 21s 31ms/step - loss: 0.0145 - accuracy: 0.9945 - val_loss: 0.0076 - val_accuracy: 0.9969\n",
      "Epoch 22/100\n",
      "693/693 [==============================] - 20s 28ms/step - loss: 0.0134 - accuracy: 0.9950 - val_loss: 0.0210 - val_accuracy: 0.9929\n",
      "Epoch 23/100\n",
      "693/693 [==============================] - 20s 28ms/step - loss: 0.0122 - accuracy: 0.9955 - val_loss: 0.0182 - val_accuracy: 0.9916\n",
      "Epoch 24/100\n",
      "693/693 [==============================] - 20s 29ms/step - loss: 0.0125 - accuracy: 0.9955 - val_loss: 0.0096 - val_accuracy: 0.9956\n",
      "Epoch 25/100\n",
      "693/693 [==============================] - 20s 28ms/step - loss: 0.0109 - accuracy: 0.9958 - val_loss: 0.0097 - val_accuracy: 0.9950\n",
      "Epoch 26/100\n",
      "693/693 [==============================] - 20s 29ms/step - loss: 0.0106 - accuracy: 0.9961 - val_loss: 0.0130 - val_accuracy: 0.9943\n",
      "Epoch 27/100\n",
      "693/693 [==============================] - 20s 29ms/step - loss: 0.0102 - accuracy: 0.9960 - val_loss: 0.0042 - val_accuracy: 0.9979\n",
      "Epoch 28/100\n",
      "693/693 [==============================] - 21s 30ms/step - loss: 0.0114 - accuracy: 0.9955 - val_loss: 0.0042 - val_accuracy: 0.9981\n",
      "Epoch 29/100\n",
      "693/693 [==============================] - 19s 28ms/step - loss: 0.0115 - accuracy: 0.9954 - val_loss: 0.0082 - val_accuracy: 0.9969\n",
      "Epoch 30/100\n",
      "693/693 [==============================] - 19s 27ms/step - loss: 0.0096 - accuracy: 0.9962 - val_loss: 0.0051 - val_accuracy: 0.9978\n",
      "Epoch 31/100\n",
      "693/693 [==============================] - 21s 30ms/step - loss: 0.0088 - accuracy: 0.9963 - val_loss: 0.0031 - val_accuracy: 0.9977\n",
      "Epoch 32/100\n",
      "693/693 [==============================] - 19s 27ms/step - loss: 0.0088 - accuracy: 0.9965 - val_loss: 0.0040 - val_accuracy: 0.9983\n",
      "Epoch 33/100\n",
      "693/693 [==============================] - 20s 28ms/step - loss: 0.0087 - accuracy: 0.9966 - val_loss: 0.0051 - val_accuracy: 0.9971\n",
      "Epoch 34/100\n",
      "693/693 [==============================] - 20s 29ms/step - loss: 0.0085 - accuracy: 0.9968 - val_loss: 0.0081 - val_accuracy: 0.9974\n",
      "Epoch 35/100\n",
      "693/693 [==============================] - 19s 27ms/step - loss: 0.0065 - accuracy: 0.9972 - val_loss: 0.0101 - val_accuracy: 0.9959\n",
      "Epoch 36/100\n",
      "693/693 [==============================] - 21s 30ms/step - loss: 0.0090 - accuracy: 0.9965 - val_loss: 0.0030 - val_accuracy: 0.9982\n",
      "Epoch 37/100\n",
      "693/693 [==============================] - 19s 28ms/step - loss: 0.0075 - accuracy: 0.9969 - val_loss: 0.0211 - val_accuracy: 0.9942\n",
      "Epoch 38/100\n",
      "693/693 [==============================] - 19s 27ms/step - loss: 0.0079 - accuracy: 0.9968 - val_loss: 0.0107 - val_accuracy: 0.9959\n",
      "Epoch 39/100\n",
      "693/693 [==============================] - 20s 29ms/step - loss: 0.0077 - accuracy: 0.9969 - val_loss: 0.0177 - val_accuracy: 0.9940\n",
      "Epoch 40/100\n",
      "693/693 [==============================] - 21s 30ms/step - loss: 0.0066 - accuracy: 0.9972 - val_loss: 0.0026 - val_accuracy: 0.9985\n",
      "Epoch 41/100\n",
      "693/693 [==============================] - 20s 29ms/step - loss: 0.0075 - accuracy: 0.9971 - val_loss: 0.0035 - val_accuracy: 0.9981\n",
      "Epoch 42/100\n",
      "693/693 [==============================] - 20s 29ms/step - loss: 0.0060 - accuracy: 0.9976 - val_loss: 0.0066 - val_accuracy: 0.9974\n",
      "Epoch 43/100\n",
      "693/693 [==============================] - 19s 28ms/step - loss: 0.0056 - accuracy: 0.9975 - val_loss: 0.0028 - val_accuracy: 0.9978\n",
      "Epoch 44/100\n",
      "693/693 [==============================] - 20s 29ms/step - loss: 0.0067 - accuracy: 0.9971 - val_loss: 0.0144 - val_accuracy: 0.9956\n",
      "Epoch 45/100\n",
      "693/693 [==============================] - 20s 28ms/step - loss: 0.0062 - accuracy: 0.9974 - val_loss: 0.0089 - val_accuracy: 0.9963\n",
      "Epoch 46/100\n",
      "693/693 [==============================] - 19s 27ms/step - loss: 0.0075 - accuracy: 0.9970 - val_loss: 0.0099 - val_accuracy: 0.9957\n",
      "Epoch 47/100\n",
      "693/693 [==============================] - 20s 29ms/step - loss: 0.0042 - accuracy: 0.9980 - val_loss: 0.0210 - val_accuracy: 0.9934\n",
      "Epoch 48/100\n",
      "693/693 [==============================] - 19s 28ms/step - loss: 0.0075 - accuracy: 0.9967 - val_loss: 0.0035 - val_accuracy: 0.9982\n",
      "Epoch 49/100\n",
      "693/693 [==============================] - 19s 28ms/step - loss: 0.0056 - accuracy: 0.9976 - val_loss: 0.0040 - val_accuracy: 0.9980\n",
      "Epoch 50/100\n",
      "693/693 [==============================] - 21s 30ms/step - loss: 0.0056 - accuracy: 0.9976 - val_loss: 0.0025 - val_accuracy: 0.9983\n",
      "Epoch 51/100\n",
      "693/693 [==============================] - 20s 29ms/step - loss: 0.0080 - accuracy: 0.9966 - val_loss: 0.0065 - val_accuracy: 0.9972\n",
      "Epoch 52/100\n",
      "693/693 [==============================] - 20s 29ms/step - loss: 0.0046 - accuracy: 0.9980 - val_loss: 0.0041 - val_accuracy: 0.9979\n",
      "Epoch 53/100\n",
      "693/693 [==============================] - 20s 28ms/step - loss: 0.0067 - accuracy: 0.9971 - val_loss: 0.0044 - val_accuracy: 0.9979\n",
      "Epoch 54/100\n",
      "693/693 [==============================] - 20s 28ms/step - loss: 0.0060 - accuracy: 0.9973 - val_loss: 0.0050 - val_accuracy: 0.9976\n",
      "Epoch 55/100\n",
      "693/693 [==============================] - 20s 29ms/step - loss: 0.0049 - accuracy: 0.9979 - val_loss: 0.0085 - val_accuracy: 0.9973\n",
      "Epoch 56/100\n",
      "693/693 [==============================] - 19s 28ms/step - loss: 0.0066 - accuracy: 0.9971 - val_loss: 0.0032 - val_accuracy: 0.9982\n",
      "Epoch 57/100\n",
      "693/693 [==============================] - 20s 29ms/step - loss: 0.0040 - accuracy: 0.9982 - val_loss: 0.0024 - val_accuracy: 0.9985\n",
      "Epoch 58/100\n",
      "693/693 [==============================] - 20s 29ms/step - loss: 0.0056 - accuracy: 0.9975 - val_loss: 0.0046 - val_accuracy: 0.9980\n",
      "Epoch 59/100\n",
      "693/693 [==============================] - 19s 27ms/step - loss: 0.0050 - accuracy: 0.9977 - val_loss: 0.0027 - val_accuracy: 0.9983\n",
      "Epoch 60/100\n",
      "693/693 [==============================] - 19s 28ms/step - loss: 0.0045 - accuracy: 0.9978 - val_loss: 0.0042 - val_accuracy: 0.9979\n",
      "Epoch 61/100\n",
      "693/693 [==============================] - 19s 28ms/step - loss: 0.0043 - accuracy: 0.9979 - val_loss: 0.0031 - val_accuracy: 0.9981\n",
      "Epoch 62/100\n",
      "693/693 [==============================] - 20s 28ms/step - loss: 0.0064 - accuracy: 0.9974 - val_loss: 0.0169 - val_accuracy: 0.9925\n",
      "Epoch 63/100\n",
      "693/693 [==============================] - 21s 30ms/step - loss: 0.0046 - accuracy: 0.9976 - val_loss: 0.0024 - val_accuracy: 0.9984\n",
      "Epoch 64/100\n",
      "693/693 [==============================] - 20s 28ms/step - loss: 0.0055 - accuracy: 0.9975 - val_loss: 0.0038 - val_accuracy: 0.9978\n",
      "Epoch 65/100\n",
      "693/693 [==============================] - 19s 28ms/step - loss: 0.0034 - accuracy: 0.9981 - val_loss: 0.0028 - val_accuracy: 0.9986\n",
      "Epoch 66/100\n",
      "693/693 [==============================] - 20s 29ms/step - loss: 0.0026 - accuracy: 0.9985 - val_loss: 0.0022 - val_accuracy: 0.9986\n",
      "Epoch 67/100\n",
      "693/693 [==============================] - 19s 28ms/step - loss: 0.0077 - accuracy: 0.9969 - val_loss: 0.0035 - val_accuracy: 0.9978\n",
      "Epoch 68/100\n",
      "693/693 [==============================] - 19s 28ms/step - loss: 0.0041 - accuracy: 0.9979 - val_loss: 0.0027 - val_accuracy: 0.9985\n",
      "Epoch 69/100\n",
      "693/693 [==============================] - 19s 28ms/step - loss: 0.0053 - accuracy: 0.9976 - val_loss: 0.0023 - val_accuracy: 0.9985\n",
      "Epoch 70/100\n",
      "693/693 [==============================] - 19s 28ms/step - loss: 0.0035 - accuracy: 0.9982 - val_loss: 0.0059 - val_accuracy: 0.9971\n",
      "Epoch 71/100\n",
      "693/693 [==============================] - 20s 28ms/step - loss: 0.0072 - accuracy: 0.9971 - val_loss: 0.0023 - val_accuracy: 0.9982\n",
      "Epoch 72/100\n",
      "693/693 [==============================] - 19s 28ms/step - loss: 0.0054 - accuracy: 0.9977 - val_loss: 0.0034 - val_accuracy: 0.9981\n",
      "Epoch 73/100\n",
      "693/693 [==============================] - 19s 27ms/step - loss: 0.0035 - accuracy: 0.9981 - val_loss: 0.0031 - val_accuracy: 0.9980\n",
      "Epoch 74/100\n",
      "693/693 [==============================] - 19s 28ms/step - loss: 0.0046 - accuracy: 0.9979 - val_loss: 0.0029 - val_accuracy: 0.9983\n",
      "Epoch 75/100\n",
      "693/693 [==============================] - 20s 29ms/step - loss: 0.0046 - accuracy: 0.9978 - val_loss: 0.0023 - val_accuracy: 0.9987\n",
      "Epoch 76/100\n",
      "693/693 [==============================] - 20s 29ms/step - loss: 0.0041 - accuracy: 0.9978 - val_loss: 0.0037 - val_accuracy: 0.9981\n"
     ]
    },
    {
     "output_type": "execute_result",
     "data": {
      "text/plain": [
       "<keras.callbacks.History at 0x7e4a90476ec0>"
      ]
     },
     "metadata": {},
     "execution_count": 23
    }
   ],
   "source": [
    "model.fit(X_train, y_train, epochs=100, batch_size=128,callbacks=[checkpoint,stop],validation_split=0.1)"
   ]
  },
  {
   "cell_type": "code",
   "source": [
    "from sklearn.preprocessing import OneHotEncoder\n",
    "from keras.models import load_model\n",
    "\n",
    "model=load_model('/content/drive/MyDrive/silverline/MirrorMind/questionnaire/model.h5')\n",
    "result=model.predict(X_test)\n",
    "print(classification_report(y_test.argmax(axis=1),result.argmax(axis=1)))"
   ],
   "metadata": {
    "id": "iRKOvMkGzXaZ",
    "executionInfo": {
     "status": "ok",
     "timestamp": 1692021887504,
     "user_tz": -330,
     "elapsed": 22182,
     "user": {
      "displayName": "M. Maduranga",
      "userId": "17457890108800649825"
     }
    },
    "colab": {
     "base_uri": "https://localhost:8080/"
    },
    "outputId": "deabc60b-7a02-43f0-9ffd-3eab7f8374db"
   },
   "execution_count": null,
   "outputs": [
    {
     "output_type": "stream",
     "name": "stdout",
     "text": [
      "342/342 [==============================] - 4s 6ms/step\n",
      "              precision    recall  f1-score   support\n",
      "\n",
      "           0       1.00      1.00      1.00      3099\n",
      "           1       1.00      0.99      1.00      2631\n",
      "           2       1.00      1.00      1.00      3022\n",
      "           3       1.00      1.00      1.00      2192\n",
      "\n",
      "    accuracy                           1.00     10944\n",
      "   macro avg       1.00      1.00      1.00     10944\n",
      "weighted avg       1.00      1.00      1.00     10944\n"
     ]
    }
   ]
  },
  {
   "cell_type": "code",
   "source": [],
   "metadata": {
    "id": "Hx_zC6tltJ8Q"
   },
   "execution_count": null,
   "outputs": []
  }
 ],
 "metadata": {
  "colab": {
   "provenance": [],
   "gpuType": "T4",
   "mount_file_id": "19YTncay0uwTQhQ_3U7crNiJLZK8BU0oO",
   "authorship_tag": "ABX9TyOu+pGVofefXT6lTT1tRmo+"
  },
  "kernelspec": {
   "display_name": "Python 3",
   "name": "python3"
  },
  "language_info": {
   "name": "python"
  },
  "accelerator": "GPU"
 },
 "nbformat": 4,
 "nbformat_minor": 0
}
