{
 "cells": [
  {
   "cell_type": "markdown",
   "source": [
    "# NOT used Model.Testing"
   ],
   "metadata": {
    "collapsed": false
   }
  },
  {
   "cell_type": "code",
   "execution_count": 1,
   "outputs": [],
   "source": [
    "from keras.preprocessing.image import ImageDataGenerator\n",
    "from keras.models import Sequential,load_model\n",
    "from keras.layers import Dense,Conv2D,Flatten,MaxPooling2D,AveragePooling2D,Dropout,BatchNormalization,ReLU\n",
    "from keras.callbacks import ModelCheckpoint\n",
    "import cv2\n",
    "import numpy as np\n",
    "import tensorflow as tf"
   ],
   "metadata": {
    "collapsed": false,
    "ExecuteTime": {
     "start_time": "2023-06-07T10:29:33.067556100Z"
    }
   }
  },
  {
   "cell_type": "code",
   "execution_count": 2,
   "metadata": {
    "collapsed": false,
    "ExecuteTime": {
     "end_time": "2023-06-07T10:29:35.923292900Z",
     "start_time": "2023-06-07T10:29:35.907618800Z"
    }
   },
   "outputs": [],
   "source": [
    "# Define the data generator with rescaling and validation split\n",
    "datagen = ImageDataGenerator(rescale=1./255, validation_split=0.2)\n",
    "\n",
    "# Define the directories for the training and testing data\n",
    "dir_train = 'D:\\\\Data sets\\\\Natural Human Face Images for Emotion Recognition\\\\train'\n",
    "dir_test = 'D:\\\\Data sets\\\\Natural Human Face Images for Emotion Recognition\\\\test'\n",
    "\n",
    "# Define the image size for the model\n",
    "img_size=[224,224]\n"
   ]
  },
  {
   "cell_type": "code",
   "execution_count": 3,
   "outputs": [],
   "source": [
    "checkpoint = ModelCheckpoint(\n",
    "    filepath='cnn_model.h5',\n",
    "    monitor='val_accuracy',\n",
    "    mode='max',\n",
    "    save_best_only=True,\n",
    "    verbose=1\n",
    ")"
   ],
   "metadata": {
    "collapsed": false,
    "ExecuteTime": {
     "end_time": "2023-06-07T10:29:35.938867800Z",
     "start_time": "2023-06-07T10:29:35.923292900Z"
    }
   }
  },
  {
   "cell_type": "code",
   "execution_count": 4,
   "metadata": {
    "collapsed": false,
    "ExecuteTime": {
     "end_time": "2023-06-07T10:29:36.205746Z",
     "start_time": "2023-06-07T10:29:35.938867800Z"
    }
   },
   "outputs": [
    {
     "name": "stdout",
     "output_type": "stream",
     "text": [
      "Found 4439 images belonging to 8 classes.\n",
      "Found 1104 images belonging to 8 classes.\n",
      "{'anger': 0, 'contempt': 1, 'disgust': 2, 'fear': 3, 'happiness': 4, 'neutrality': 5, 'sadness': 6, 'surprise': 7}\n"
     ]
    }
   ],
   "source": [
    "train_data = datagen.flow_from_directory(\n",
    "    dir_train,\n",
    "    target_size=img_size,\n",
    "    batch_size=16,\n",
    "    class_mode='categorical',\n",
    "    subset='training',\n",
    "    color_mode='grayscale'\n",
    ")\n",
    "val_data = datagen.flow_from_directory(\n",
    "    dir_train,\n",
    "    target_size=img_size,\n",
    "    batch_size=16,\n",
    "    class_mode='categorical',\n",
    "    subset='validation',\n",
    "    color_mode='grayscale'\n",
    ")\n",
    "print(val_data.class_indices)"
   ]
  },
  {
   "cell_type": "code",
   "execution_count": 5,
   "metadata": {
    "collapsed": false,
    "ExecuteTime": {
     "end_time": "2023-06-07T10:29:38.106985600Z",
     "start_time": "2023-06-07T10:29:36.205746Z"
    }
   },
   "outputs": [],
   "source": [
    "model =Sequential()\n",
    "model.add(Conv2D(64,(3,3),input_shape=img_size+[1]))\n",
    "model.add(BatchNormalization())\n",
    "model.add(ReLU())\n",
    "model.add(AveragePooling2D((2,2)))\n",
    "model.add(Conv2D(128,(3,3)))\n",
    "model.add(BatchNormalization())\n",
    "model.add(ReLU())\n",
    "model.add(AveragePooling2D((2,2)))\n",
    "model.add(Conv2D(256,(3,3)))\n",
    "model.add(BatchNormalization())\n",
    "model.add(ReLU())\n",
    "model.add(MaxPooling2D((2,2),padding='same'))\n",
    "model.add(Conv2D(256,(3,3)))\n",
    "model.add(BatchNormalization())\n",
    "model.add(ReLU())\n",
    "model.add(Flatten())\n",
    "model.add(Dense(128))\n",
    "model.add(BatchNormalization())\n",
    "model.add(ReLU())\n",
    "model.add(Dropout(0.4))\n",
    "model.add(Dense(8,activation='softmax'))"
   ]
  },
  {
   "cell_type": "code",
   "execution_count": 6,
   "metadata": {
    "collapsed": false,
    "ExecuteTime": {
     "end_time": "2023-06-07T10:29:38.169392400Z",
     "start_time": "2023-06-07T10:29:38.106985600Z"
    }
   },
   "outputs": [
    {
     "name": "stdout",
     "output_type": "stream",
     "text": [
      "Model: \"sequential\"\n",
      "_________________________________________________________________\n",
      " Layer (type)                Output Shape              Param #   \n",
      "=================================================================\n",
      " conv2d (Conv2D)             (None, 222, 222, 64)      640       \n",
      "                                                                 \n",
      " batch_normalization (BatchN  (None, 222, 222, 64)     256       \n",
      " ormalization)                                                   \n",
      "                                                                 \n",
      " re_lu (ReLU)                (None, 222, 222, 64)      0         \n",
      "                                                                 \n",
      " average_pooling2d (AverageP  (None, 111, 111, 64)     0         \n",
      " ooling2D)                                                       \n",
      "                                                                 \n",
      " conv2d_1 (Conv2D)           (None, 109, 109, 128)     73856     \n",
      "                                                                 \n",
      " batch_normalization_1 (Batc  (None, 109, 109, 128)    512       \n",
      " hNormalization)                                                 \n",
      "                                                                 \n",
      " re_lu_1 (ReLU)              (None, 109, 109, 128)     0         \n",
      "                                                                 \n",
      " average_pooling2d_1 (Averag  (None, 54, 54, 128)      0         \n",
      " ePooling2D)                                                     \n",
      "                                                                 \n",
      " conv2d_2 (Conv2D)           (None, 52, 52, 256)       295168    \n",
      "                                                                 \n",
      " batch_normalization_2 (Batc  (None, 52, 52, 256)      1024      \n",
      " hNormalization)                                                 \n",
      "                                                                 \n",
      " re_lu_2 (ReLU)              (None, 52, 52, 256)       0         \n",
      "                                                                 \n",
      " max_pooling2d (MaxPooling2D  (None, 26, 26, 256)      0         \n",
      " )                                                               \n",
      "                                                                 \n",
      " conv2d_3 (Conv2D)           (None, 24, 24, 256)       590080    \n",
      "                                                                 \n",
      " batch_normalization_3 (Batc  (None, 24, 24, 256)      1024      \n",
      " hNormalization)                                                 \n",
      "                                                                 \n",
      " re_lu_3 (ReLU)              (None, 24, 24, 256)       0         \n",
      "                                                                 \n",
      " flatten (Flatten)           (None, 147456)            0         \n",
      "                                                                 \n",
      " dense (Dense)               (None, 128)               18874496  \n",
      "                                                                 \n",
      " batch_normalization_4 (Batc  (None, 128)              512       \n",
      " hNormalization)                                                 \n",
      "                                                                 \n",
      " re_lu_4 (ReLU)              (None, 128)               0         \n",
      "                                                                 \n",
      " dropout (Dropout)           (None, 128)               0         \n",
      "                                                                 \n",
      " dense_1 (Dense)             (None, 8)                 1032      \n",
      "                                                                 \n",
      "=================================================================\n",
      "Total params: 19,838,600\n",
      "Trainable params: 19,836,936\n",
      "Non-trainable params: 1,664\n",
      "_________________________________________________________________\n"
     ]
    }
   ],
   "source": [
    "model.summary()"
   ]
  },
  {
   "cell_type": "code",
   "execution_count": 7,
   "metadata": {
    "collapsed": false,
    "ExecuteTime": {
     "end_time": "2023-06-07T10:29:38.169392400Z",
     "start_time": "2023-06-07T10:29:38.169392400Z"
    }
   },
   "outputs": [],
   "source": [
    "model.compile(optimizer='adam',loss='categorical_crossentropy',metrics=['accuracy'])"
   ]
  },
  {
   "cell_type": "code",
   "execution_count": 8,
   "metadata": {
    "collapsed": false,
    "ExecuteTime": {
     "end_time": "2023-06-07T10:52:17.275056900Z",
     "start_time": "2023-06-07T10:29:38.169392400Z"
    }
   },
   "outputs": [
    {
     "name": "stdout",
     "output_type": "stream",
     "text": [
      "Epoch 1/40\n",
      "278/278 [==============================] - ETA: 0s - loss: 1.9904 - accuracy: 0.3111\n",
      "Epoch 1: val_accuracy improved from -inf to 0.09964, saving model to cnn_model.h5\n",
      "278/278 [==============================] - 37s 121ms/step - loss: 1.9904 - accuracy: 0.3111 - val_loss: 2.2259 - val_accuracy: 0.0996\n",
      "Epoch 2/40\n",
      "278/278 [==============================] - ETA: 0s - loss: 1.6195 - accuracy: 0.4271\n",
      "Epoch 2: val_accuracy improved from 0.09964 to 0.40761, saving model to cnn_model.h5\n",
      "278/278 [==============================] - 32s 116ms/step - loss: 1.6195 - accuracy: 0.4271 - val_loss: 1.6176 - val_accuracy: 0.4076\n",
      "Epoch 3/40\n",
      "278/278 [==============================] - ETA: 0s - loss: 1.3981 - accuracy: 0.5026\n",
      "Epoch 3: val_accuracy improved from 0.40761 to 0.44293, saving model to cnn_model.h5\n",
      "278/278 [==============================] - 32s 117ms/step - loss: 1.3981 - accuracy: 0.5026 - val_loss: 1.5328 - val_accuracy: 0.4429\n",
      "Epoch 4/40\n",
      "278/278 [==============================] - ETA: 0s - loss: 1.2305 - accuracy: 0.5621\n",
      "Epoch 4: val_accuracy did not improve from 0.44293\n",
      "278/278 [==============================] - 32s 115ms/step - loss: 1.2305 - accuracy: 0.5621 - val_loss: 1.6773 - val_accuracy: 0.3786\n",
      "Epoch 5/40\n",
      "278/278 [==============================] - ETA: 0s - loss: 1.0288 - accuracy: 0.6319\n",
      "Epoch 5: val_accuracy did not improve from 0.44293\n",
      "278/278 [==============================] - 32s 115ms/step - loss: 1.0288 - accuracy: 0.6319 - val_loss: 1.6854 - val_accuracy: 0.4321\n",
      "Epoch 6/40\n",
      "278/278 [==============================] - ETA: 0s - loss: 0.8627 - accuracy: 0.7049\n",
      "Epoch 6: val_accuracy did not improve from 0.44293\n",
      "278/278 [==============================] - 32s 115ms/step - loss: 0.8627 - accuracy: 0.7049 - val_loss: 1.8289 - val_accuracy: 0.4393\n",
      "Epoch 7/40\n",
      "278/278 [==============================] - ETA: 0s - loss: 0.6941 - accuracy: 0.7671\n",
      "Epoch 7: val_accuracy improved from 0.44293 to 0.45562, saving model to cnn_model.h5\n",
      "278/278 [==============================] - 33s 117ms/step - loss: 0.6941 - accuracy: 0.7671 - val_loss: 1.6312 - val_accuracy: 0.4556\n",
      "Epoch 8/40\n",
      "278/278 [==============================] - ETA: 0s - loss: 0.5310 - accuracy: 0.8286\n",
      "Epoch 8: val_accuracy improved from 0.45562 to 0.46830, saving model to cnn_model.h5\n",
      "278/278 [==============================] - 33s 118ms/step - loss: 0.5310 - accuracy: 0.8286 - val_loss: 1.7320 - val_accuracy: 0.4683\n",
      "Epoch 9/40\n",
      "278/278 [==============================] - ETA: 0s - loss: 0.3831 - accuracy: 0.8811\n",
      "Epoch 9: val_accuracy did not improve from 0.46830\n",
      "278/278 [==============================] - 43s 156ms/step - loss: 0.3831 - accuracy: 0.8811 - val_loss: 1.8428 - val_accuracy: 0.4375\n",
      "Epoch 10/40\n",
      "278/278 [==============================] - ETA: 0s - loss: 0.3218 - accuracy: 0.9074\n",
      "Epoch 10: val_accuracy did not improve from 0.46830\n",
      "278/278 [==============================] - 45s 161ms/step - loss: 0.3218 - accuracy: 0.9074 - val_loss: 2.0440 - val_accuracy: 0.4293\n",
      "Epoch 11/40\n",
      "278/278 [==============================] - ETA: 0s - loss: 0.2865 - accuracy: 0.9160\n",
      "Epoch 11: val_accuracy did not improve from 0.46830\n",
      "278/278 [==============================] - 44s 158ms/step - loss: 0.2865 - accuracy: 0.9160 - val_loss: 1.9821 - val_accuracy: 0.4565\n",
      "Epoch 12/40\n",
      "278/278 [==============================] - ETA: 0s - loss: 0.2185 - accuracy: 0.9390\n",
      "Epoch 12: val_accuracy did not improve from 0.46830\n",
      "278/278 [==============================] - 45s 161ms/step - loss: 0.2185 - accuracy: 0.9390 - val_loss: 2.1365 - val_accuracy: 0.4592\n",
      "Epoch 13/40\n",
      "278/278 [==============================] - ETA: 0s - loss: 0.1815 - accuracy: 0.9441\n",
      "Epoch 13: val_accuracy did not improve from 0.46830\n",
      "278/278 [==============================] - 45s 161ms/step - loss: 0.1815 - accuracy: 0.9441 - val_loss: 2.2790 - val_accuracy: 0.4538\n",
      "Epoch 14/40\n",
      "278/278 [==============================] - ETA: 0s - loss: 0.1975 - accuracy: 0.9428\n",
      "Epoch 14: val_accuracy did not improve from 0.46830\n",
      "278/278 [==============================] - 44s 158ms/step - loss: 0.1975 - accuracy: 0.9428 - val_loss: 2.2600 - val_accuracy: 0.4565\n",
      "Epoch 15/40\n",
      "278/278 [==============================] - ETA: 0s - loss: 0.1689 - accuracy: 0.9527\n",
      "Epoch 15: val_accuracy did not improve from 0.46830\n",
      "278/278 [==============================] - 45s 164ms/step - loss: 0.1689 - accuracy: 0.9527 - val_loss: 2.5757 - val_accuracy: 0.4447\n",
      "Epoch 16/40\n",
      "278/278 [==============================] - ETA: 0s - loss: 0.1488 - accuracy: 0.9604\n",
      "Epoch 16: val_accuracy did not improve from 0.46830\n",
      "278/278 [==============================] - 45s 162ms/step - loss: 0.1488 - accuracy: 0.9604 - val_loss: 2.1411 - val_accuracy: 0.4466\n",
      "Epoch 17/40\n",
      "278/278 [==============================] - ETA: 0s - loss: 0.1478 - accuracy: 0.9576\n",
      "Epoch 17: val_accuracy did not improve from 0.46830\n",
      "278/278 [==============================] - 45s 162ms/step - loss: 0.1478 - accuracy: 0.9576 - val_loss: 2.3251 - val_accuracy: 0.4529\n",
      "Epoch 18/40\n",
      "278/278 [==============================] - ETA: 0s - loss: 0.1349 - accuracy: 0.9588\n",
      "Epoch 18: val_accuracy did not improve from 0.46830\n",
      "278/278 [==============================] - 45s 163ms/step - loss: 0.1349 - accuracy: 0.9588 - val_loss: 2.3022 - val_accuracy: 0.4556\n",
      "Epoch 19/40\n",
      "278/278 [==============================] - ETA: 0s - loss: 0.1202 - accuracy: 0.9660\n",
      "Epoch 19: val_accuracy did not improve from 0.46830\n",
      "278/278 [==============================] - 45s 161ms/step - loss: 0.1202 - accuracy: 0.9660 - val_loss: 2.1830 - val_accuracy: 0.4601\n",
      "Epoch 20/40\n",
      "278/278 [==============================] - ETA: 0s - loss: 0.1165 - accuracy: 0.9705\n",
      "Epoch 20: val_accuracy did not improve from 0.46830\n",
      "278/278 [==============================] - 44s 157ms/step - loss: 0.1165 - accuracy: 0.9705 - val_loss: 2.5915 - val_accuracy: 0.4611\n",
      "Epoch 21/40\n",
      "278/278 [==============================] - ETA: 0s - loss: 0.1203 - accuracy: 0.9660\n",
      "Epoch 21: val_accuracy improved from 0.46830 to 0.46920, saving model to cnn_model.h5\n",
      "278/278 [==============================] - 32s 117ms/step - loss: 0.1203 - accuracy: 0.9660 - val_loss: 2.4482 - val_accuracy: 0.4692\n",
      "Epoch 22/40\n",
      "278/278 [==============================] - ETA: 0s - loss: 0.1011 - accuracy: 0.9716\n",
      "Epoch 22: val_accuracy did not improve from 0.46920\n",
      "278/278 [==============================] - 32s 115ms/step - loss: 0.1011 - accuracy: 0.9716 - val_loss: 2.5663 - val_accuracy: 0.4502\n",
      "Epoch 23/40\n",
      "278/278 [==============================] - ETA: 0s - loss: 0.1075 - accuracy: 0.9714\n",
      "Epoch 23: val_accuracy did not improve from 0.46920\n",
      "278/278 [==============================] - 32s 115ms/step - loss: 0.1075 - accuracy: 0.9714 - val_loss: 2.5356 - val_accuracy: 0.4447\n",
      "Epoch 24/40\n",
      "278/278 [==============================] - ETA: 0s - loss: 0.1087 - accuracy: 0.9669\n",
      "Epoch 24: val_accuracy did not improve from 0.46920\n",
      "278/278 [==============================] - 32s 115ms/step - loss: 0.1087 - accuracy: 0.9669 - val_loss: 3.0074 - val_accuracy: 0.4248\n",
      "Epoch 25/40\n",
      "278/278 [==============================] - ETA: 0s - loss: 0.0993 - accuracy: 0.9723\n",
      "Epoch 25: val_accuracy did not improve from 0.46920\n",
      "278/278 [==============================] - 32s 115ms/step - loss: 0.0993 - accuracy: 0.9723 - val_loss: 2.6465 - val_accuracy: 0.4411\n",
      "Epoch 26/40\n",
      "278/278 [==============================] - ETA: 0s - loss: 0.0984 - accuracy: 0.9696\n",
      "Epoch 26: val_accuracy did not improve from 0.46920\n",
      "278/278 [==============================] - 32s 116ms/step - loss: 0.0984 - accuracy: 0.9696 - val_loss: 2.2367 - val_accuracy: 0.4429\n",
      "Epoch 27/40\n",
      "278/278 [==============================] - ETA: 0s - loss: 0.0967 - accuracy: 0.9748\n",
      "Epoch 27: val_accuracy did not improve from 0.46920\n",
      "278/278 [==============================] - 32s 116ms/step - loss: 0.0967 - accuracy: 0.9748 - val_loss: 2.4559 - val_accuracy: 0.4583\n",
      "Epoch 28/40\n",
      "278/278 [==============================] - ETA: 0s - loss: 0.0902 - accuracy: 0.9757\n",
      "Epoch 28: val_accuracy did not improve from 0.46920\n",
      "278/278 [==============================] - 32s 116ms/step - loss: 0.0902 - accuracy: 0.9757 - val_loss: 2.3793 - val_accuracy: 0.4538\n",
      "Epoch 29/40\n",
      "278/278 [==============================] - ETA: 0s - loss: 0.0985 - accuracy: 0.9732\n",
      "Epoch 29: val_accuracy did not improve from 0.46920\n",
      "278/278 [==============================] - 33s 118ms/step - loss: 0.0985 - accuracy: 0.9732 - val_loss: 2.4783 - val_accuracy: 0.4592\n",
      "Epoch 30/40\n",
      "278/278 [==============================] - ETA: 0s - loss: 0.0860 - accuracy: 0.9759\n",
      "Epoch 30: val_accuracy did not improve from 0.46920\n",
      "278/278 [==============================] - 37s 135ms/step - loss: 0.0860 - accuracy: 0.9759 - val_loss: 2.3812 - val_accuracy: 0.4493\n",
      "Epoch 31/40\n",
      "278/278 [==============================] - ETA: 0s - loss: 0.0926 - accuracy: 0.9752\n",
      "Epoch 31: val_accuracy did not improve from 0.46920\n",
      "278/278 [==============================] - 45s 161ms/step - loss: 0.0926 - accuracy: 0.9752 - val_loss: 2.5692 - val_accuracy: 0.4556\n",
      "Epoch 32/40\n",
      "278/278 [==============================] - ETA: 0s - loss: 0.0824 - accuracy: 0.9790\n",
      "Epoch 32: val_accuracy did not improve from 0.46920\n",
      "278/278 [==============================] - 44s 157ms/step - loss: 0.0824 - accuracy: 0.9790 - val_loss: 2.5555 - val_accuracy: 0.4420\n",
      "Epoch 33/40\n",
      "278/278 [==============================] - ETA: 0s - loss: 0.0779 - accuracy: 0.9779\n",
      "Epoch 33: val_accuracy did not improve from 0.46920\n",
      "278/278 [==============================] - 45s 161ms/step - loss: 0.0779 - accuracy: 0.9779 - val_loss: 2.7099 - val_accuracy: 0.4402\n",
      "Epoch 34/40\n",
      "278/278 [==============================] - ETA: 0s - loss: 0.0777 - accuracy: 0.9777\n",
      "Epoch 34: val_accuracy did not improve from 0.46920\n",
      "278/278 [==============================] - 45s 162ms/step - loss: 0.0777 - accuracy: 0.9777 - val_loss: 2.4972 - val_accuracy: 0.4511\n",
      "Epoch 35/40\n",
      "278/278 [==============================] - ETA: 0s - loss: 0.0824 - accuracy: 0.9779\n",
      "Epoch 35: val_accuracy did not improve from 0.46920\n",
      "278/278 [==============================] - 45s 162ms/step - loss: 0.0824 - accuracy: 0.9779 - val_loss: 2.6515 - val_accuracy: 0.4520\n",
      "Epoch 36/40\n",
      " 50/278 [====>.........................] - ETA: 33s - loss: 0.0706 - accuracy: 0.9775"
     ]
    },
    {
     "ename": "KeyboardInterrupt",
     "evalue": "",
     "output_type": "error",
     "traceback": [
      "\u001B[1;31m---------------------------------------------------------------------------\u001B[0m",
      "\u001B[1;31mKeyboardInterrupt\u001B[0m                         Traceback (most recent call last)",
      "Cell \u001B[1;32mIn[8], line 1\u001B[0m\n\u001B[1;32m----> 1\u001B[0m \u001B[43mmodel\u001B[49m\u001B[38;5;241;43m.\u001B[39;49m\u001B[43mfit\u001B[49m\u001B[43m(\u001B[49m\u001B[43mtrain_data\u001B[49m\u001B[43m,\u001B[49m\u001B[43m \u001B[49m\u001B[43mepochs\u001B[49m\u001B[38;5;241;43m=\u001B[39;49m\u001B[38;5;241;43m40\u001B[39;49m\u001B[43m,\u001B[49m\u001B[43m \u001B[49m\u001B[43mvalidation_data\u001B[49m\u001B[38;5;241;43m=\u001B[39;49m\u001B[43mval_data\u001B[49m\u001B[43m,\u001B[49m\u001B[43mcallbacks\u001B[49m\u001B[38;5;241;43m=\u001B[39;49m\u001B[43m[\u001B[49m\u001B[43mcheckpoint\u001B[49m\u001B[43m]\u001B[49m\u001B[43m)\u001B[49m\n",
      "File \u001B[1;32m~\\anaconda3\\envs\\ML\\lib\\site-packages\\keras\\utils\\traceback_utils.py:65\u001B[0m, in \u001B[0;36mfilter_traceback.<locals>.error_handler\u001B[1;34m(*args, **kwargs)\u001B[0m\n\u001B[0;32m     63\u001B[0m filtered_tb \u001B[38;5;241m=\u001B[39m \u001B[38;5;28;01mNone\u001B[39;00m\n\u001B[0;32m     64\u001B[0m \u001B[38;5;28;01mtry\u001B[39;00m:\n\u001B[1;32m---> 65\u001B[0m     \u001B[38;5;28;01mreturn\u001B[39;00m fn(\u001B[38;5;241m*\u001B[39margs, \u001B[38;5;241m*\u001B[39m\u001B[38;5;241m*\u001B[39mkwargs)\n\u001B[0;32m     66\u001B[0m \u001B[38;5;28;01mexcept\u001B[39;00m \u001B[38;5;167;01mException\u001B[39;00m \u001B[38;5;28;01mas\u001B[39;00m e:\n\u001B[0;32m     67\u001B[0m     filtered_tb \u001B[38;5;241m=\u001B[39m _process_traceback_frames(e\u001B[38;5;241m.\u001B[39m__traceback__)\n",
      "File \u001B[1;32m~\\anaconda3\\envs\\ML\\lib\\site-packages\\keras\\engine\\training.py:1564\u001B[0m, in \u001B[0;36mModel.fit\u001B[1;34m(self, x, y, batch_size, epochs, verbose, callbacks, validation_split, validation_data, shuffle, class_weight, sample_weight, initial_epoch, steps_per_epoch, validation_steps, validation_batch_size, validation_freq, max_queue_size, workers, use_multiprocessing)\u001B[0m\n\u001B[0;32m   1556\u001B[0m \u001B[38;5;28;01mwith\u001B[39;00m tf\u001B[38;5;241m.\u001B[39mprofiler\u001B[38;5;241m.\u001B[39mexperimental\u001B[38;5;241m.\u001B[39mTrace(\n\u001B[0;32m   1557\u001B[0m     \u001B[38;5;124m\"\u001B[39m\u001B[38;5;124mtrain\u001B[39m\u001B[38;5;124m\"\u001B[39m,\n\u001B[0;32m   1558\u001B[0m     epoch_num\u001B[38;5;241m=\u001B[39mepoch,\n\u001B[1;32m   (...)\u001B[0m\n\u001B[0;32m   1561\u001B[0m     _r\u001B[38;5;241m=\u001B[39m\u001B[38;5;241m1\u001B[39m,\n\u001B[0;32m   1562\u001B[0m ):\n\u001B[0;32m   1563\u001B[0m     callbacks\u001B[38;5;241m.\u001B[39mon_train_batch_begin(step)\n\u001B[1;32m-> 1564\u001B[0m     tmp_logs \u001B[38;5;241m=\u001B[39m \u001B[38;5;28;43mself\u001B[39;49m\u001B[38;5;241;43m.\u001B[39;49m\u001B[43mtrain_function\u001B[49m\u001B[43m(\u001B[49m\u001B[43miterator\u001B[49m\u001B[43m)\u001B[49m\n\u001B[0;32m   1565\u001B[0m     \u001B[38;5;28;01mif\u001B[39;00m data_handler\u001B[38;5;241m.\u001B[39mshould_sync:\n\u001B[0;32m   1566\u001B[0m         context\u001B[38;5;241m.\u001B[39masync_wait()\n",
      "File \u001B[1;32m~\\anaconda3\\envs\\ML\\lib\\site-packages\\tensorflow\\python\\util\\traceback_utils.py:150\u001B[0m, in \u001B[0;36mfilter_traceback.<locals>.error_handler\u001B[1;34m(*args, **kwargs)\u001B[0m\n\u001B[0;32m    148\u001B[0m filtered_tb \u001B[38;5;241m=\u001B[39m \u001B[38;5;28;01mNone\u001B[39;00m\n\u001B[0;32m    149\u001B[0m \u001B[38;5;28;01mtry\u001B[39;00m:\n\u001B[1;32m--> 150\u001B[0m   \u001B[38;5;28;01mreturn\u001B[39;00m fn(\u001B[38;5;241m*\u001B[39margs, \u001B[38;5;241m*\u001B[39m\u001B[38;5;241m*\u001B[39mkwargs)\n\u001B[0;32m    151\u001B[0m \u001B[38;5;28;01mexcept\u001B[39;00m \u001B[38;5;167;01mException\u001B[39;00m \u001B[38;5;28;01mas\u001B[39;00m e:\n\u001B[0;32m    152\u001B[0m   filtered_tb \u001B[38;5;241m=\u001B[39m _process_traceback_frames(e\u001B[38;5;241m.\u001B[39m__traceback__)\n",
      "File \u001B[1;32m~\\anaconda3\\envs\\ML\\lib\\site-packages\\tensorflow\\python\\eager\\def_function.py:915\u001B[0m, in \u001B[0;36mFunction.__call__\u001B[1;34m(self, *args, **kwds)\u001B[0m\n\u001B[0;32m    912\u001B[0m compiler \u001B[38;5;241m=\u001B[39m \u001B[38;5;124m\"\u001B[39m\u001B[38;5;124mxla\u001B[39m\u001B[38;5;124m\"\u001B[39m \u001B[38;5;28;01mif\u001B[39;00m \u001B[38;5;28mself\u001B[39m\u001B[38;5;241m.\u001B[39m_jit_compile \u001B[38;5;28;01melse\u001B[39;00m \u001B[38;5;124m\"\u001B[39m\u001B[38;5;124mnonXla\u001B[39m\u001B[38;5;124m\"\u001B[39m\n\u001B[0;32m    914\u001B[0m \u001B[38;5;28;01mwith\u001B[39;00m OptionalXlaContext(\u001B[38;5;28mself\u001B[39m\u001B[38;5;241m.\u001B[39m_jit_compile):\n\u001B[1;32m--> 915\u001B[0m   result \u001B[38;5;241m=\u001B[39m \u001B[38;5;28mself\u001B[39m\u001B[38;5;241m.\u001B[39m_call(\u001B[38;5;241m*\u001B[39margs, \u001B[38;5;241m*\u001B[39m\u001B[38;5;241m*\u001B[39mkwds)\n\u001B[0;32m    917\u001B[0m new_tracing_count \u001B[38;5;241m=\u001B[39m \u001B[38;5;28mself\u001B[39m\u001B[38;5;241m.\u001B[39mexperimental_get_tracing_count()\n\u001B[0;32m    918\u001B[0m without_tracing \u001B[38;5;241m=\u001B[39m (tracing_count \u001B[38;5;241m==\u001B[39m new_tracing_count)\n",
      "File \u001B[1;32m~\\anaconda3\\envs\\ML\\lib\\site-packages\\tensorflow\\python\\eager\\def_function.py:947\u001B[0m, in \u001B[0;36mFunction._call\u001B[1;34m(self, *args, **kwds)\u001B[0m\n\u001B[0;32m    944\u001B[0m   \u001B[38;5;28mself\u001B[39m\u001B[38;5;241m.\u001B[39m_lock\u001B[38;5;241m.\u001B[39mrelease()\n\u001B[0;32m    945\u001B[0m   \u001B[38;5;66;03m# In this case we have created variables on the first call, so we run the\u001B[39;00m\n\u001B[0;32m    946\u001B[0m   \u001B[38;5;66;03m# defunned version which is guaranteed to never create variables.\u001B[39;00m\n\u001B[1;32m--> 947\u001B[0m   \u001B[38;5;28;01mreturn\u001B[39;00m \u001B[38;5;28mself\u001B[39m\u001B[38;5;241m.\u001B[39m_stateless_fn(\u001B[38;5;241m*\u001B[39margs, \u001B[38;5;241m*\u001B[39m\u001B[38;5;241m*\u001B[39mkwds)  \u001B[38;5;66;03m# pylint: disable=not-callable\u001B[39;00m\n\u001B[0;32m    948\u001B[0m \u001B[38;5;28;01melif\u001B[39;00m \u001B[38;5;28mself\u001B[39m\u001B[38;5;241m.\u001B[39m_stateful_fn \u001B[38;5;129;01mis\u001B[39;00m \u001B[38;5;129;01mnot\u001B[39;00m \u001B[38;5;28;01mNone\u001B[39;00m:\n\u001B[0;32m    949\u001B[0m   \u001B[38;5;66;03m# Release the lock early so that multiple threads can perform the call\u001B[39;00m\n\u001B[0;32m    950\u001B[0m   \u001B[38;5;66;03m# in parallel.\u001B[39;00m\n\u001B[0;32m    951\u001B[0m   \u001B[38;5;28mself\u001B[39m\u001B[38;5;241m.\u001B[39m_lock\u001B[38;5;241m.\u001B[39mrelease()\n",
      "File \u001B[1;32m~\\anaconda3\\envs\\ML\\lib\\site-packages\\tensorflow\\python\\eager\\function.py:2496\u001B[0m, in \u001B[0;36mFunction.__call__\u001B[1;34m(self, *args, **kwargs)\u001B[0m\n\u001B[0;32m   2493\u001B[0m \u001B[38;5;28;01mwith\u001B[39;00m \u001B[38;5;28mself\u001B[39m\u001B[38;5;241m.\u001B[39m_lock:\n\u001B[0;32m   2494\u001B[0m   (graph_function,\n\u001B[0;32m   2495\u001B[0m    filtered_flat_args) \u001B[38;5;241m=\u001B[39m \u001B[38;5;28mself\u001B[39m\u001B[38;5;241m.\u001B[39m_maybe_define_function(args, kwargs)\n\u001B[1;32m-> 2496\u001B[0m \u001B[38;5;28;01mreturn\u001B[39;00m \u001B[43mgraph_function\u001B[49m\u001B[38;5;241;43m.\u001B[39;49m\u001B[43m_call_flat\u001B[49m\u001B[43m(\u001B[49m\n\u001B[0;32m   2497\u001B[0m \u001B[43m    \u001B[49m\u001B[43mfiltered_flat_args\u001B[49m\u001B[43m,\u001B[49m\u001B[43m \u001B[49m\u001B[43mcaptured_inputs\u001B[49m\u001B[38;5;241;43m=\u001B[39;49m\u001B[43mgraph_function\u001B[49m\u001B[38;5;241;43m.\u001B[39;49m\u001B[43mcaptured_inputs\u001B[49m\u001B[43m)\u001B[49m\n",
      "File \u001B[1;32m~\\anaconda3\\envs\\ML\\lib\\site-packages\\tensorflow\\python\\eager\\function.py:1862\u001B[0m, in \u001B[0;36mConcreteFunction._call_flat\u001B[1;34m(self, args, captured_inputs, cancellation_manager)\u001B[0m\n\u001B[0;32m   1858\u001B[0m possible_gradient_type \u001B[38;5;241m=\u001B[39m gradients_util\u001B[38;5;241m.\u001B[39mPossibleTapeGradientTypes(args)\n\u001B[0;32m   1859\u001B[0m \u001B[38;5;28;01mif\u001B[39;00m (possible_gradient_type \u001B[38;5;241m==\u001B[39m gradients_util\u001B[38;5;241m.\u001B[39mPOSSIBLE_GRADIENT_TYPES_NONE\n\u001B[0;32m   1860\u001B[0m     \u001B[38;5;129;01mand\u001B[39;00m executing_eagerly):\n\u001B[0;32m   1861\u001B[0m   \u001B[38;5;66;03m# No tape is watching; skip to running the function.\u001B[39;00m\n\u001B[1;32m-> 1862\u001B[0m   \u001B[38;5;28;01mreturn\u001B[39;00m \u001B[38;5;28mself\u001B[39m\u001B[38;5;241m.\u001B[39m_build_call_outputs(\u001B[38;5;28;43mself\u001B[39;49m\u001B[38;5;241;43m.\u001B[39;49m\u001B[43m_inference_function\u001B[49m\u001B[38;5;241;43m.\u001B[39;49m\u001B[43mcall\u001B[49m\u001B[43m(\u001B[49m\n\u001B[0;32m   1863\u001B[0m \u001B[43m      \u001B[49m\u001B[43mctx\u001B[49m\u001B[43m,\u001B[49m\u001B[43m \u001B[49m\u001B[43margs\u001B[49m\u001B[43m,\u001B[49m\u001B[43m \u001B[49m\u001B[43mcancellation_manager\u001B[49m\u001B[38;5;241;43m=\u001B[39;49m\u001B[43mcancellation_manager\u001B[49m\u001B[43m)\u001B[49m)\n\u001B[0;32m   1864\u001B[0m forward_backward \u001B[38;5;241m=\u001B[39m \u001B[38;5;28mself\u001B[39m\u001B[38;5;241m.\u001B[39m_select_forward_and_backward_functions(\n\u001B[0;32m   1865\u001B[0m     args,\n\u001B[0;32m   1866\u001B[0m     possible_gradient_type,\n\u001B[0;32m   1867\u001B[0m     executing_eagerly)\n\u001B[0;32m   1868\u001B[0m forward_function, args_with_tangents \u001B[38;5;241m=\u001B[39m forward_backward\u001B[38;5;241m.\u001B[39mforward()\n",
      "File \u001B[1;32m~\\anaconda3\\envs\\ML\\lib\\site-packages\\tensorflow\\python\\eager\\function.py:499\u001B[0m, in \u001B[0;36m_EagerDefinedFunction.call\u001B[1;34m(self, ctx, args, cancellation_manager)\u001B[0m\n\u001B[0;32m    497\u001B[0m \u001B[38;5;28;01mwith\u001B[39;00m _InterpolateFunctionError(\u001B[38;5;28mself\u001B[39m):\n\u001B[0;32m    498\u001B[0m   \u001B[38;5;28;01mif\u001B[39;00m cancellation_manager \u001B[38;5;129;01mis\u001B[39;00m \u001B[38;5;28;01mNone\u001B[39;00m:\n\u001B[1;32m--> 499\u001B[0m     outputs \u001B[38;5;241m=\u001B[39m \u001B[43mexecute\u001B[49m\u001B[38;5;241;43m.\u001B[39;49m\u001B[43mexecute\u001B[49m\u001B[43m(\u001B[49m\n\u001B[0;32m    500\u001B[0m \u001B[43m        \u001B[49m\u001B[38;5;28;43mstr\u001B[39;49m\u001B[43m(\u001B[49m\u001B[38;5;28;43mself\u001B[39;49m\u001B[38;5;241;43m.\u001B[39;49m\u001B[43msignature\u001B[49m\u001B[38;5;241;43m.\u001B[39;49m\u001B[43mname\u001B[49m\u001B[43m)\u001B[49m\u001B[43m,\u001B[49m\n\u001B[0;32m    501\u001B[0m \u001B[43m        \u001B[49m\u001B[43mnum_outputs\u001B[49m\u001B[38;5;241;43m=\u001B[39;49m\u001B[38;5;28;43mself\u001B[39;49m\u001B[38;5;241;43m.\u001B[39;49m\u001B[43m_num_outputs\u001B[49m\u001B[43m,\u001B[49m\n\u001B[0;32m    502\u001B[0m \u001B[43m        \u001B[49m\u001B[43minputs\u001B[49m\u001B[38;5;241;43m=\u001B[39;49m\u001B[43margs\u001B[49m\u001B[43m,\u001B[49m\n\u001B[0;32m    503\u001B[0m \u001B[43m        \u001B[49m\u001B[43mattrs\u001B[49m\u001B[38;5;241;43m=\u001B[39;49m\u001B[43mattrs\u001B[49m\u001B[43m,\u001B[49m\n\u001B[0;32m    504\u001B[0m \u001B[43m        \u001B[49m\u001B[43mctx\u001B[49m\u001B[38;5;241;43m=\u001B[39;49m\u001B[43mctx\u001B[49m\u001B[43m)\u001B[49m\n\u001B[0;32m    505\u001B[0m   \u001B[38;5;28;01melse\u001B[39;00m:\n\u001B[0;32m    506\u001B[0m     outputs \u001B[38;5;241m=\u001B[39m execute\u001B[38;5;241m.\u001B[39mexecute_with_cancellation(\n\u001B[0;32m    507\u001B[0m         \u001B[38;5;28mstr\u001B[39m(\u001B[38;5;28mself\u001B[39m\u001B[38;5;241m.\u001B[39msignature\u001B[38;5;241m.\u001B[39mname),\n\u001B[0;32m    508\u001B[0m         num_outputs\u001B[38;5;241m=\u001B[39m\u001B[38;5;28mself\u001B[39m\u001B[38;5;241m.\u001B[39m_num_outputs,\n\u001B[1;32m   (...)\u001B[0m\n\u001B[0;32m    511\u001B[0m         ctx\u001B[38;5;241m=\u001B[39mctx,\n\u001B[0;32m    512\u001B[0m         cancellation_manager\u001B[38;5;241m=\u001B[39mcancellation_manager)\n",
      "File \u001B[1;32m~\\anaconda3\\envs\\ML\\lib\\site-packages\\tensorflow\\python\\eager\\execute.py:54\u001B[0m, in \u001B[0;36mquick_execute\u001B[1;34m(op_name, num_outputs, inputs, attrs, ctx, name)\u001B[0m\n\u001B[0;32m     52\u001B[0m \u001B[38;5;28;01mtry\u001B[39;00m:\n\u001B[0;32m     53\u001B[0m   ctx\u001B[38;5;241m.\u001B[39mensure_initialized()\n\u001B[1;32m---> 54\u001B[0m   tensors \u001B[38;5;241m=\u001B[39m \u001B[43mpywrap_tfe\u001B[49m\u001B[38;5;241;43m.\u001B[39;49m\u001B[43mTFE_Py_Execute\u001B[49m\u001B[43m(\u001B[49m\u001B[43mctx\u001B[49m\u001B[38;5;241;43m.\u001B[39;49m\u001B[43m_handle\u001B[49m\u001B[43m,\u001B[49m\u001B[43m \u001B[49m\u001B[43mdevice_name\u001B[49m\u001B[43m,\u001B[49m\u001B[43m \u001B[49m\u001B[43mop_name\u001B[49m\u001B[43m,\u001B[49m\n\u001B[0;32m     55\u001B[0m \u001B[43m                                      \u001B[49m\u001B[43minputs\u001B[49m\u001B[43m,\u001B[49m\u001B[43m \u001B[49m\u001B[43mattrs\u001B[49m\u001B[43m,\u001B[49m\u001B[43m \u001B[49m\u001B[43mnum_outputs\u001B[49m\u001B[43m)\u001B[49m\n\u001B[0;32m     56\u001B[0m \u001B[38;5;28;01mexcept\u001B[39;00m core\u001B[38;5;241m.\u001B[39m_NotOkStatusException \u001B[38;5;28;01mas\u001B[39;00m e:\n\u001B[0;32m     57\u001B[0m   \u001B[38;5;28;01mif\u001B[39;00m name \u001B[38;5;129;01mis\u001B[39;00m \u001B[38;5;129;01mnot\u001B[39;00m \u001B[38;5;28;01mNone\u001B[39;00m:\n",
      "\u001B[1;31mKeyboardInterrupt\u001B[0m: "
     ]
    }
   ],
   "source": [
    "model.fit(train_data, epochs=40, validation_data=val_data,callbacks=[checkpoint])"
   ]
  },
  {
   "cell_type": "code",
   "execution_count": null,
   "metadata": {
    "collapsed": false
   },
   "outputs": [],
   "source": [
    "img=cv2.imread(\"D:\\\\Data sets\\\\Natural Human Face Images for Emotion Recognition\\\\test\\\\images - 2020-11-06T003457.012_face.png\",cv2.IMREAD_GRAYSCALE)\n",
    "# cv2.imshow('image',img)\n",
    "# cv2.waitKey(0)\n",
    "img_resized=cv2.resize(img,img_size)\n",
    "img=np.expand_dims(img,axis=0)\n",
    "img=np.expand_dims(img,axis=-1)\n",
    "img=img/255"
   ]
  },
  {
   "cell_type": "code",
   "execution_count": null,
   "metadata": {
    "collapsed": false
   },
   "outputs": [],
   "source": [
    "class_names=['anger', 'contempt', 'disgust', 'fear', 'happiness', 'neutrality', 'sadness', 'surprise']\n",
    "model=load_model('cnn_model.h5')\n",
    "pred=model.predict(img)\n",
    "output_class = class_names[np.argmax(pred)]\n",
    "print(\"predicted  class is : \",output_class)"
   ]
  },
  {
   "cell_type": "code",
   "execution_count": null,
   "metadata": {
    "collapsed": false
   },
   "outputs": [],
   "source": [
    "def create_tflite():\n",
    "    file_name= 'emotion_detection_model.tflite'\n",
    "    converter= tf.lite.TFLiteConverter.from_keras_model(model)\n",
    "    tflite_model = converter.convert()\n",
    "    open(file_name,'wb').write(tflite_model)\n"
   ]
  },
  {
   "cell_type": "code",
   "execution_count": null,
   "outputs": [],
   "source": [
    "create_tflite()"
   ],
   "metadata": {
    "collapsed": false
   }
  },
  {
   "cell_type": "code",
   "execution_count": null,
   "outputs": [],
   "source": [],
   "metadata": {
    "collapsed": false
   }
  }
 ],
 "metadata": {
  "kernelspec": {
   "display_name": "Python 3",
   "language": "python",
   "name": "python3"
  },
  "language_info": {
   "codemirror_mode": {
    "name": "ipython",
    "version": 2
   },
   "file_extension": ".py",
   "mimetype": "text/x-python",
   "name": "python",
   "nbconvert_exporter": "python",
   "pygments_lexer": "ipython2",
   "version": "2.7.6"
  }
 },
 "nbformat": 4,
 "nbformat_minor": 0
}
