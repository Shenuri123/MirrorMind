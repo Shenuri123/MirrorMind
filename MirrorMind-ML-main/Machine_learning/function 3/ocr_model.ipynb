{
 "cells": [
  {
   "cell_type": "code",
   "execution_count": 2,
   "metadata": {
    "collapsed": true,
    "ExecuteTime": {
     "end_time": "2023-07-04T14:31:17.567327500Z",
     "start_time": "2023-07-04T14:31:17.551117500Z"
    }
   },
   "outputs": [],
   "source": [
    "import os\n",
    "os.environ[\"KMP_DUPLICATE_LIB_OK\"]=\"TRUE\""
   ]
  },
  {
   "cell_type": "code",
   "execution_count": 3,
   "outputs": [],
   "source": [
    "import easyocr"
   ],
   "metadata": {
    "collapsed": false,
    "ExecuteTime": {
     "end_time": "2023-07-04T14:31:20.656290200Z",
     "start_time": "2023-07-04T14:31:17.567327500Z"
    }
   }
  },
  {
   "cell_type": "code",
   "execution_count": 4,
   "outputs": [
    {
     "name": "stderr",
     "output_type": "stream",
     "text": [
      "Neither CUDA nor MPS are available - defaulting to CPU. Note: This module is much faster with a GPU.\n"
     ]
    }
   ],
   "source": [
    "reader = easyocr.Reader(['en'],gpu=True)"
   ],
   "metadata": {
    "collapsed": false,
    "ExecuteTime": {
     "end_time": "2023-07-04T14:31:22.713273100Z",
     "start_time": "2023-07-04T14:31:20.658284800Z"
    }
   }
  },
  {
   "cell_type": "code",
   "execution_count": 5,
   "outputs": [],
   "source": [
    "img_path='P:\\\\SilverlineIT\\\\Virtual Reality Mall\\\\git\\\\VR-Mall-ML\\\\Machine learning models\\\\Inventory Management\\\\img1.jpg'\n",
    "result = reader.readtext(img_path)"
   ],
   "metadata": {
    "collapsed": false,
    "ExecuteTime": {
     "end_time": "2023-07-04T14:31:27.838129700Z",
     "start_time": "2023-07-04T14:31:22.716354200Z"
    }
   }
  },
  {
   "cell_type": "code",
   "execution_count": 6,
   "outputs": [],
   "source": [
    "import pandas as pd"
   ],
   "metadata": {
    "collapsed": false,
    "ExecuteTime": {
     "end_time": "2023-07-04T14:31:28.120579200Z",
     "start_time": "2023-07-04T14:31:27.839127200Z"
    }
   }
  },
  {
   "cell_type": "code",
   "execution_count": 7,
   "outputs": [
    {
     "data": {
      "text/plain": "                                              boxes  text  threshold\n0        [[738, 0], [792, 0], [792, 26], [738, 26]]   BA'   0.722858\n1        [[830, 0], [860, 0], [860, 28], [830, 28]]    or   0.941671\n2      [[867, 57], [919, 57], [919, 93], [867, 93]]  0 Ia   0.881091\n3  [[645, 109], [693, 109], [693, 147], [645, 147]]    NO   0.508134\n4  [[648, 158], [676, 158], [676, 182], [648, 182]]    Ia   0.547602",
      "text/html": "<div>\n<style scoped>\n    .dataframe tbody tr th:only-of-type {\n        vertical-align: middle;\n    }\n\n    .dataframe tbody tr th {\n        vertical-align: top;\n    }\n\n    .dataframe thead th {\n        text-align: right;\n    }\n</style>\n<table border=\"1\" class=\"dataframe\">\n  <thead>\n    <tr style=\"text-align: right;\">\n      <th></th>\n      <th>boxes</th>\n      <th>text</th>\n      <th>threshold</th>\n    </tr>\n  </thead>\n  <tbody>\n    <tr>\n      <th>0</th>\n      <td>[[738, 0], [792, 0], [792, 26], [738, 26]]</td>\n      <td>BA'</td>\n      <td>0.722858</td>\n    </tr>\n    <tr>\n      <th>1</th>\n      <td>[[830, 0], [860, 0], [860, 28], [830, 28]]</td>\n      <td>or</td>\n      <td>0.941671</td>\n    </tr>\n    <tr>\n      <th>2</th>\n      <td>[[867, 57], [919, 57], [919, 93], [867, 93]]</td>\n      <td>0 Ia</td>\n      <td>0.881091</td>\n    </tr>\n    <tr>\n      <th>3</th>\n      <td>[[645, 109], [693, 109], [693, 147], [645, 147]]</td>\n      <td>NO</td>\n      <td>0.508134</td>\n    </tr>\n    <tr>\n      <th>4</th>\n      <td>[[648, 158], [676, 158], [676, 182], [648, 182]]</td>\n      <td>Ia</td>\n      <td>0.547602</td>\n    </tr>\n  </tbody>\n</table>\n</div>"
     },
     "execution_count": 7,
     "metadata": {},
     "output_type": "execute_result"
    }
   ],
   "source": [
    "df=pd.DataFrame(result,columns=['boxes','text','threshold'])\n",
    "df.head()"
   ],
   "metadata": {
    "collapsed": false,
    "ExecuteTime": {
     "end_time": "2023-07-04T14:31:28.165346600Z",
     "start_time": "2023-07-04T14:31:28.120579200Z"
    }
   }
  },
  {
   "cell_type": "code",
   "execution_count": 8,
   "outputs": [
    {
     "data": {
      "text/plain": "(34,)"
     },
     "execution_count": 8,
     "metadata": {},
     "output_type": "execute_result"
    }
   ],
   "source": [
    "df['text'].shape"
   ],
   "metadata": {
    "collapsed": false,
    "ExecuteTime": {
     "end_time": "2023-07-04T14:31:28.195279900Z",
     "start_time": "2023-07-04T14:31:28.160281900Z"
    }
   }
  },
  {
   "cell_type": "code",
   "execution_count": 9,
   "outputs": [
    {
     "data": {
      "text/plain": "\"BA',or,0 Ia,NO,Ia,No,NON-REMOVABLE,cover,bateria,back,EXTRAIBLE,remove,trasera,not,cubierta,Do,BATERIA,4OOOmAh(Typ),retire,3.82V-,M3it3,RATED:,Rating:,HL3TRTM,hac,HW:,20170729,Code:,115262,Date,8648860301,IMEI:,DHWN5OO2,SKU:\""
     },
     "execution_count": 9,
     "metadata": {},
     "output_type": "execute_result"
    }
   ],
   "source": [
    "','.join(df['text'])"
   ],
   "metadata": {
    "collapsed": false,
    "ExecuteTime": {
     "end_time": "2023-07-04T14:32:20.014458Z",
     "start_time": "2023-07-04T14:32:19.972044200Z"
    }
   }
  },
  {
   "cell_type": "code",
   "execution_count": null,
   "outputs": [],
   "source": [],
   "metadata": {
    "collapsed": false
   }
  }
 ],
 "metadata": {
  "kernelspec": {
   "display_name": "Python 3",
   "language": "python",
   "name": "python3"
  },
  "language_info": {
   "codemirror_mode": {
    "name": "ipython",
    "version": 2
   },
   "file_extension": ".py",
   "mimetype": "text/x-python",
   "name": "python",
   "nbconvert_exporter": "python",
   "pygments_lexer": "ipython2",
   "version": "2.7.6"
  }
 },
 "nbformat": 4,
 "nbformat_minor": 0
}
