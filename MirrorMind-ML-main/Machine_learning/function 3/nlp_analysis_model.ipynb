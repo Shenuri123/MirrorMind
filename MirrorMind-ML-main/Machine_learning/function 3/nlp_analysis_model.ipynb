{
 "cells": [
  {
   "cell_type": "code",
   "execution_count": 1,
   "metadata": {
    "collapsed": false,
    "ExecuteTime": {
     "end_time": "2023-09-01T10:43:21.593835200Z",
     "start_time": "2023-09-01T10:43:15.544875100Z"
    }
   },
   "outputs": [],
   "source": [
    "# import nltk\n",
    "from nltk.stem import WordNetLemmatizer\n",
    "import pandas as pd\n",
    "from gensim.utils import simple_preprocess\n",
    "from nltk.corpus import stopwords\n",
    "from keras.utils import pad_sequences\n",
    "from keras.layers import Embedding,LSTM,Dense,BatchNormalization,ReLU,Softmax\n",
    "from keras.models import Sequential,load_model\n",
    "from keras.preprocessing.text import one_hot\n",
    "import numpy as np\n",
    "from sklearn.model_selection import train_test_split\n",
    "from keras.callbacks import ModelCheckpoint"
   ]
  },
  {
   "cell_type": "code",
   "execution_count": 2,
   "metadata": {
    "ExecuteTime": {
     "end_time": "2023-06-19T10:04:59.474976Z",
     "start_time": "2023-06-19T10:04:59.459389300Z"
    },
    "collapsed": false
   },
   "outputs": [],
   "source": [
    "# nltk.download('wordnet')"
   ]
  },
  {
   "cell_type": "code",
   "execution_count": 2,
   "metadata": {
    "collapsed": false,
    "ExecuteTime": {
     "end_time": "2023-09-01T10:44:37.980725400Z",
     "start_time": "2023-09-01T10:44:37.949591Z"
    }
   },
   "outputs": [],
   "source": [
    "checkpoint = ModelCheckpoint(\n",
    "    filepath='nlp_model.h5',\n",
    "    monitor='val_accuracy',\n",
    "    mode='max',\n",
    "    save_best_only=True,\n",
    "    verbose=1\n",
    ")"
   ]
  },
  {
   "cell_type": "code",
   "execution_count": 3,
   "metadata": {
    "collapsed": false,
    "ExecuteTime": {
     "end_time": "2023-09-01T10:44:42.612513300Z",
     "start_time": "2023-09-01T10:44:40.639319200Z"
    }
   },
   "outputs": [
    {
     "data": {
      "text/plain": "                                                text  result\n0  trouble sleeping, confused mind, restless hear...     1.0\n1  All wrong, back off dear, forward doubt. Stay ...     1.0\n2  I've shifted my focus to something else but I'...     1.0\n3  I'm restless and restless, it's been a month n...     1.0\n4  every break, you must be nervous, like somethi...     1.0\n5  I feel scared, anxious, what can I do? And may...     1.0\n6    Have you ever felt nervous but didn't know why?     1.0\n7  I haven't slept well for 2 days, it's like I'm...     1.0\n8                 I'm really worried, I want to cry.     1.0\n9  always restless every night, even though I don...     1.0",
      "text/html": "<div>\n<style scoped>\n    .dataframe tbody tr th:only-of-type {\n        vertical-align: middle;\n    }\n\n    .dataframe tbody tr th {\n        vertical-align: top;\n    }\n\n    .dataframe thead th {\n        text-align: right;\n    }\n</style>\n<table border=\"1\" class=\"dataframe\">\n  <thead>\n    <tr style=\"text-align: right;\">\n      <th></th>\n      <th>text</th>\n      <th>result</th>\n    </tr>\n  </thead>\n  <tbody>\n    <tr>\n      <th>0</th>\n      <td>trouble sleeping, confused mind, restless hear...</td>\n      <td>1.0</td>\n    </tr>\n    <tr>\n      <th>1</th>\n      <td>All wrong, back off dear, forward doubt. Stay ...</td>\n      <td>1.0</td>\n    </tr>\n    <tr>\n      <th>2</th>\n      <td>I've shifted my focus to something else but I'...</td>\n      <td>1.0</td>\n    </tr>\n    <tr>\n      <th>3</th>\n      <td>I'm restless and restless, it's been a month n...</td>\n      <td>1.0</td>\n    </tr>\n    <tr>\n      <th>4</th>\n      <td>every break, you must be nervous, like somethi...</td>\n      <td>1.0</td>\n    </tr>\n    <tr>\n      <th>5</th>\n      <td>I feel scared, anxious, what can I do? And may...</td>\n      <td>1.0</td>\n    </tr>\n    <tr>\n      <th>6</th>\n      <td>Have you ever felt nervous but didn't know why?</td>\n      <td>1.0</td>\n    </tr>\n    <tr>\n      <th>7</th>\n      <td>I haven't slept well for 2 days, it's like I'm...</td>\n      <td>1.0</td>\n    </tr>\n    <tr>\n      <th>8</th>\n      <td>I'm really worried, I want to cry.</td>\n      <td>1.0</td>\n    </tr>\n    <tr>\n      <th>9</th>\n      <td>always restless every night, even though I don...</td>\n      <td>1.0</td>\n    </tr>\n  </tbody>\n</table>\n</div>"
     },
     "execution_count": 3,
     "metadata": {},
     "output_type": "execute_result"
    }
   ],
   "source": [
    "df =pd.read_csv(\"D:\\\\Data sets\\\\Students anxiety and depression dataset\\\\dataset.csv\",encoding = \"ISO-8859-1\")\n",
    "df.columns=['text','result']\n",
    "df.head(10)"
   ]
  },
  {
   "cell_type": "code",
   "execution_count": 5,
   "metadata": {
    "ExecuteTime": {
     "end_time": "2023-06-19T10:04:59.553517900Z",
     "start_time": "2023-06-19T10:04:59.522449400Z"
    },
    "collapsed": false
   },
   "outputs": [],
   "source": [
    "# df.info()"
   ]
  },
  {
   "cell_type": "code",
   "execution_count": 4,
   "metadata": {
    "collapsed": false,
    "ExecuteTime": {
     "end_time": "2023-09-01T10:44:48.960046100Z",
     "start_time": "2023-09-01T10:44:48.840049600Z"
    }
   },
   "outputs": [
    {
     "data": {
      "text/plain": "                                                text  result\n0  [trouble, sleeping, confused, mind, restless, ...     1.0\n1  [all, wrong, back, off, dear, forward, doubt, ...     1.0\n2  [ve, shifted, my, focus, to, something, else, ...     1.0\n3  [restless, and, restless, it, been, month, now...     1.0\n4  [every, break, you, must, be, nervous, like, s...     1.0",
      "text/html": "<div>\n<style scoped>\n    .dataframe tbody tr th:only-of-type {\n        vertical-align: middle;\n    }\n\n    .dataframe tbody tr th {\n        vertical-align: top;\n    }\n\n    .dataframe thead th {\n        text-align: right;\n    }\n</style>\n<table border=\"1\" class=\"dataframe\">\n  <thead>\n    <tr style=\"text-align: right;\">\n      <th></th>\n      <th>text</th>\n      <th>result</th>\n    </tr>\n  </thead>\n  <tbody>\n    <tr>\n      <th>0</th>\n      <td>[trouble, sleeping, confused, mind, restless, ...</td>\n      <td>1.0</td>\n    </tr>\n    <tr>\n      <th>1</th>\n      <td>[all, wrong, back, off, dear, forward, doubt, ...</td>\n      <td>1.0</td>\n    </tr>\n    <tr>\n      <th>2</th>\n      <td>[ve, shifted, my, focus, to, something, else, ...</td>\n      <td>1.0</td>\n    </tr>\n    <tr>\n      <th>3</th>\n      <td>[restless, and, restless, it, been, month, now...</td>\n      <td>1.0</td>\n    </tr>\n    <tr>\n      <th>4</th>\n      <td>[every, break, you, must, be, nervous, like, s...</td>\n      <td>1.0</td>\n    </tr>\n  </tbody>\n</table>\n</div>"
     },
     "execution_count": 4,
     "metadata": {},
     "output_type": "execute_result"
    }
   ],
   "source": [
    "df['text']=df['text'].apply(simple_preprocess)\n",
    "df.head()"
   ]
  },
  {
   "cell_type": "code",
   "execution_count": 5,
   "metadata": {
    "collapsed": false,
    "ExecuteTime": {
     "end_time": "2023-09-01T10:45:00.619656100Z",
     "start_time": "2023-09-01T10:45:00.603976100Z"
    }
   },
   "outputs": [],
   "source": [
    "lemmertizer=WordNetLemmatizer()\n",
    "def lem(list):\n",
    "    word_list=[lemmertizer.lemmatize(word) for word in list if word not in set(stopwords.words('english'))]\n",
    "    word_list = ' '.join(word_list)\n",
    "    return word_list"
   ]
  },
  {
   "cell_type": "code",
   "execution_count": 6,
   "metadata": {
    "collapsed": false,
    "ExecuteTime": {
     "end_time": "2023-09-01T10:45:21.526760600Z",
     "start_time": "2023-09-01T10:45:03.729908800Z"
    }
   },
   "outputs": [
    {
     "data": {
      "text/plain": "                                                text  result\n0  trouble sleeping confused mind restless heart ...     1.0\n1  wrong back dear forward doubt stay restless re...     1.0\n2         shifted focus something else still worried     1.0\n3                   restless restless month boy mean     1.0\n4  every break must nervous like something wrong ...     1.0",
      "text/html": "<div>\n<style scoped>\n    .dataframe tbody tr th:only-of-type {\n        vertical-align: middle;\n    }\n\n    .dataframe tbody tr th {\n        vertical-align: top;\n    }\n\n    .dataframe thead th {\n        text-align: right;\n    }\n</style>\n<table border=\"1\" class=\"dataframe\">\n  <thead>\n    <tr style=\"text-align: right;\">\n      <th></th>\n      <th>text</th>\n      <th>result</th>\n    </tr>\n  </thead>\n  <tbody>\n    <tr>\n      <th>0</th>\n      <td>trouble sleeping confused mind restless heart ...</td>\n      <td>1.0</td>\n    </tr>\n    <tr>\n      <th>1</th>\n      <td>wrong back dear forward doubt stay restless re...</td>\n      <td>1.0</td>\n    </tr>\n    <tr>\n      <th>2</th>\n      <td>shifted focus something else still worried</td>\n      <td>1.0</td>\n    </tr>\n    <tr>\n      <th>3</th>\n      <td>restless restless month boy mean</td>\n      <td>1.0</td>\n    </tr>\n    <tr>\n      <th>4</th>\n      <td>every break must nervous like something wrong ...</td>\n      <td>1.0</td>\n    </tr>\n  </tbody>\n</table>\n</div>"
     },
     "execution_count": 6,
     "metadata": {},
     "output_type": "execute_result"
    }
   ],
   "source": [
    "df['text']=df['text'].apply(lem)\n",
    "df.head()"
   ]
  },
  {
   "cell_type": "code",
   "execution_count": 9,
   "metadata": {
    "ExecuteTime": {
     "end_time": "2023-06-19T10:05:16.749807500Z",
     "start_time": "2023-06-19T10:05:16.734240800Z"
    },
    "collapsed": false
   },
   "outputs": [],
   "source": [
    "voc_size=5000"
   ]
  },
  {
   "cell_type": "code",
   "execution_count": 10,
   "metadata": {
    "ExecuteTime": {
     "end_time": "2023-06-19T10:05:16.828296400Z",
     "start_time": "2023-06-19T10:05:16.765420300Z"
    },
    "collapsed": false
   },
   "outputs": [
    {
     "data": {
      "text/plain": [
       "6981"
      ]
     },
     "execution_count": 10,
     "metadata": {},
     "output_type": "execute_result"
    }
   ],
   "source": [
    "one_hot_rep= [one_hot(words,voc_size) for words in df['text']]\n",
    "len(one_hot_rep)"
   ]
  },
  {
   "cell_type": "code",
   "execution_count": 11,
   "metadata": {
    "ExecuteTime": {
     "end_time": "2023-06-19T10:05:16.890830200Z",
     "start_time": "2023-06-19T10:05:16.828296400Z"
    },
    "collapsed": false
   },
   "outputs": [
    {
     "data": {
      "text/plain": [
       "array([[   0,    0,    0, ..., 2837, 1239, 3204],\n",
       "       [   0,    0,    0, ..., 2837, 2837, 4089],\n",
       "       [   0,    0,    0, ..., 2238, 3421, 3098],\n",
       "       ...,\n",
       "       [   0,    0,    0, ...,    0,    0, 3254],\n",
       "       [   0,    0,    0, ..., 3603, 2938, 1195],\n",
       "       [   0,    0,    0, ..., 1363,  348, 4029]])"
      ]
     },
     "execution_count": 11,
     "metadata": {},
     "output_type": "execute_result"
    }
   ],
   "source": [
    "em_len=50\n",
    "embeded_list=pad_sequences(one_hot_rep,padding='pre',maxlen=em_len)\n",
    "embeded_list"
   ]
  },
  {
   "cell_type": "code",
   "execution_count": 12,
   "metadata": {
    "ExecuteTime": {
     "end_time": "2023-06-19T10:05:19.201479200Z",
     "start_time": "2023-06-19T10:05:16.860491Z"
    },
    "collapsed": false
   },
   "outputs": [
    {
     "name": "stdout",
     "output_type": "stream",
     "text": [
      "Model: \"sequential\"\n",
      "_________________________________________________________________\n",
      " Layer (type)                Output Shape              Param #   \n",
      "=================================================================\n",
      " embedding (Embedding)       (None, 50, 50)            250000    \n",
      "                                                                 \n",
      " lstm (LSTM)                 (None, 50, 128)           91648     \n",
      "                                                                 \n",
      " batch_normalization (BatchN  (None, 50, 128)          512       \n",
      " ormalization)                                                   \n",
      "                                                                 \n",
      " lstm_1 (LSTM)               (None, 128)               131584    \n",
      "                                                                 \n",
      " batch_normalization_1 (Batc  (None, 128)              512       \n",
      " hNormalization)                                                 \n",
      "                                                                 \n",
      " dense (Dense)               (None, 64)                8256      \n",
      "                                                                 \n",
      " batch_normalization_2 (Batc  (None, 64)               256       \n",
      " hNormalization)                                                 \n",
      "                                                                 \n",
      " re_lu (ReLU)                (None, 64)                0         \n",
      "                                                                 \n",
      " dense_1 (Dense)             (None, 1)                 65        \n",
      "                                                                 \n",
      "=================================================================\n",
      "Total params: 482,833\n",
      "Trainable params: 482,193\n",
      "Non-trainable params: 640\n",
      "_________________________________________________________________\n"
     ]
    }
   ],
   "source": [
    "embedding_vec_features=50\n",
    "model=Sequential()\n",
    "model.add(Embedding(voc_size,embedding_vec_features,input_length=em_len))\n",
    "model.add(LSTM(128,return_sequences=True))\n",
    "model.add(BatchNormalization())\n",
    "model.add(LSTM(128))\n",
    "model.add(BatchNormalization())\n",
    "model.add(Dense(64))\n",
    "model.add(BatchNormalization())\n",
    "model.add(ReLU())\n",
    "model.add(Dense(1,activation='sigmoid'))\n",
    "model.compile(loss='binary_crossentropy',optimizer='adam',metrics=['accuracy'])\n",
    "model.summary()"
   ]
  },
  {
   "cell_type": "code",
   "execution_count": 13,
   "metadata": {
    "ExecuteTime": {
     "end_time": "2023-06-19T10:05:19.201479200Z",
     "start_time": "2023-06-19T10:05:19.170200600Z"
    },
    "collapsed": false
   },
   "outputs": [
    {
     "data": {
      "text/plain": [
       "(6981, 50)"
      ]
     },
     "execution_count": 13,
     "metadata": {},
     "output_type": "execute_result"
    }
   ],
   "source": [
    "X=np.array(embeded_list)\n",
    "y=df['result'].fillna(0).apply(int)\n",
    "X.shape"
   ]
  },
  {
   "cell_type": "code",
   "execution_count": 14,
   "metadata": {
    "ExecuteTime": {
     "end_time": "2023-06-19T10:05:19.201479200Z",
     "start_time": "2023-06-19T10:05:19.201479200Z"
    },
    "collapsed": false
   },
   "outputs": [
    {
     "data": {
      "text/plain": [
       "(6981,)"
      ]
     },
     "execution_count": 14,
     "metadata": {},
     "output_type": "execute_result"
    }
   ],
   "source": [
    "y.shape"
   ]
  },
  {
   "cell_type": "code",
   "execution_count": 15,
   "metadata": {
    "ExecuteTime": {
     "end_time": "2023-06-19T10:05:19.216987600Z",
     "start_time": "2023-06-19T10:05:19.201479200Z"
    },
    "collapsed": false
   },
   "outputs": [],
   "source": [
    "x_train,x_test,y_train,y_test=train_test_split(X,y,test_size=0.2,random_state=42)"
   ]
  },
  {
   "cell_type": "code",
   "execution_count": 16,
   "metadata": {
    "ExecuteTime": {
     "end_time": "2023-06-19T10:07:19.357352300Z",
     "start_time": "2023-06-19T10:05:19.216987600Z"
    },
    "collapsed": false
   },
   "outputs": [
    {
     "name": "stdout",
     "output_type": "stream",
     "text": [
      "Epoch 1/40\n",
      "174/175 [============================>.] - ETA: 0s - loss: 0.2214 - accuracy: 0.9278\n",
      "Epoch 1: val_accuracy improved from -inf to 0.88618, saving model to nlp_model.h5\n",
      "175/175 [==============================] - 7s 20ms/step - loss: 0.2216 - accuracy: 0.9277 - val_loss: 0.3447 - val_accuracy: 0.8862\n",
      "Epoch 2/40\n",
      "175/175 [==============================] - ETA: 0s - loss: 0.0629 - accuracy: 0.9842\n",
      "Epoch 2: val_accuracy did not improve from 0.88618\n",
      "175/175 [==============================] - 3s 17ms/step - loss: 0.0629 - accuracy: 0.9842 - val_loss: 0.5350 - val_accuracy: 0.6922\n",
      "Epoch 3/40\n",
      "172/175 [============================>.] - ETA: 0s - loss: 0.0393 - accuracy: 0.9884\n",
      "Epoch 3: val_accuracy improved from 0.88618 to 0.91696, saving model to nlp_model.h5\n",
      "175/175 [==============================] - 3s 17ms/step - loss: 0.0389 - accuracy: 0.9885 - val_loss: 0.2589 - val_accuracy: 0.9170\n",
      "Epoch 4/40\n",
      "172/175 [============================>.] - ETA: 0s - loss: 0.0231 - accuracy: 0.9933\n",
      "Epoch 4: val_accuracy improved from 0.91696 to 0.94345, saving model to nlp_model.h5\n",
      "175/175 [==============================] - 3s 17ms/step - loss: 0.0237 - accuracy: 0.9932 - val_loss: 0.1667 - val_accuracy: 0.9435\n",
      "Epoch 5/40\n",
      "172/175 [============================>.] - ETA: 0s - loss: 0.0164 - accuracy: 0.9958\n",
      "Epoch 5: val_accuracy improved from 0.94345 to 0.98282, saving model to nlp_model.h5\n",
      "175/175 [==============================] - 3s 16ms/step - loss: 0.0163 - accuracy: 0.9959 - val_loss: 0.0634 - val_accuracy: 0.9828\n",
      "Epoch 6/40\n",
      "172/175 [============================>.] - ETA: 0s - loss: 0.0136 - accuracy: 0.9965\n",
      "Epoch 6: val_accuracy did not improve from 0.98282\n",
      "175/175 [==============================] - 3s 17ms/step - loss: 0.0140 - accuracy: 0.9964 - val_loss: 0.0883 - val_accuracy: 0.9814\n",
      "Epoch 7/40\n",
      "172/175 [============================>.] - ETA: 0s - loss: 0.0094 - accuracy: 0.9980\n",
      "Epoch 7: val_accuracy improved from 0.98282 to 0.98425, saving model to nlp_model.h5\n",
      "175/175 [==============================] - 3s 17ms/step - loss: 0.0101 - accuracy: 0.9979 - val_loss: 0.0716 - val_accuracy: 0.9843\n",
      "Epoch 8/40\n",
      "172/175 [============================>.] - ETA: 0s - loss: 0.0099 - accuracy: 0.9971\n",
      "Epoch 8: val_accuracy did not improve from 0.98425\n",
      "175/175 [==============================] - 3s 16ms/step - loss: 0.0099 - accuracy: 0.9971 - val_loss: 0.0910 - val_accuracy: 0.9792\n",
      "Epoch 9/40\n",
      "173/175 [============================>.] - ETA: 0s - loss: 0.0114 - accuracy: 0.9964\n",
      "Epoch 9: val_accuracy did not improve from 0.98425\n",
      "175/175 [==============================] - 3s 16ms/step - loss: 0.0113 - accuracy: 0.9964 - val_loss: 0.1024 - val_accuracy: 0.9785\n",
      "Epoch 10/40\n",
      "174/175 [============================>.] - ETA: 0s - loss: 0.0065 - accuracy: 0.9982\n",
      "Epoch 10: val_accuracy did not improve from 0.98425\n",
      "175/175 [==============================] - 3s 16ms/step - loss: 0.0065 - accuracy: 0.9982 - val_loss: 0.0956 - val_accuracy: 0.9814\n",
      "Epoch 11/40\n",
      "172/175 [============================>.] - ETA: 0s - loss: 0.0051 - accuracy: 0.9984\n",
      "Epoch 11: val_accuracy did not improve from 0.98425\n",
      "175/175 [==============================] - 3s 16ms/step - loss: 0.0053 - accuracy: 0.9982 - val_loss: 0.0865 - val_accuracy: 0.9792\n",
      "Epoch 12/40\n",
      "172/175 [============================>.] - ETA: 0s - loss: 0.0101 - accuracy: 0.9975\n",
      "Epoch 12: val_accuracy did not improve from 0.98425\n",
      "175/175 [==============================] - 3s 16ms/step - loss: 0.0100 - accuracy: 0.9975 - val_loss: 0.1924 - val_accuracy: 0.9642\n",
      "Epoch 13/40\n",
      "175/175 [==============================] - ETA: 0s - loss: 0.0093 - accuracy: 0.9973\n",
      "Epoch 13: val_accuracy did not improve from 0.98425\n",
      "175/175 [==============================] - 3s 16ms/step - loss: 0.0093 - accuracy: 0.9973 - val_loss: 0.1368 - val_accuracy: 0.9728\n",
      "Epoch 14/40\n",
      "172/175 [============================>.] - ETA: 0s - loss: 0.0045 - accuracy: 0.9985\n",
      "Epoch 14: val_accuracy did not improve from 0.98425\n",
      "175/175 [==============================] - 3s 16ms/step - loss: 0.0044 - accuracy: 0.9986 - val_loss: 0.1368 - val_accuracy: 0.9764\n",
      "Epoch 15/40\n",
      "172/175 [============================>.] - ETA: 0s - loss: 0.0192 - accuracy: 0.9935\n",
      "Epoch 15: val_accuracy did not improve from 0.98425\n",
      "175/175 [==============================] - 3s 16ms/step - loss: 0.0197 - accuracy: 0.9934 - val_loss: 0.2249 - val_accuracy: 0.9635\n",
      "Epoch 16/40\n",
      "173/175 [============================>.] - ETA: 0s - loss: 0.0230 - accuracy: 0.9926\n",
      "Epoch 16: val_accuracy did not improve from 0.98425\n",
      "175/175 [==============================] - 3s 16ms/step - loss: 0.0228 - accuracy: 0.9927 - val_loss: 0.0858 - val_accuracy: 0.9735\n",
      "Epoch 17/40\n",
      "175/175 [==============================] - ETA: 0s - loss: 0.0134 - accuracy: 0.9966\n",
      "Epoch 17: val_accuracy did not improve from 0.98425\n",
      "175/175 [==============================] - 3s 16ms/step - loss: 0.0134 - accuracy: 0.9966 - val_loss: 0.0846 - val_accuracy: 0.9785\n",
      "Epoch 18/40\n",
      "171/175 [============================>.] - ETA: 0s - loss: 0.0065 - accuracy: 0.9984\n",
      "Epoch 18: val_accuracy improved from 0.98425 to 0.98712, saving model to nlp_model.h5\n",
      "175/175 [==============================] - 3s 17ms/step - loss: 0.0064 - accuracy: 0.9984 - val_loss: 0.0651 - val_accuracy: 0.9871\n",
      "Epoch 19/40\n",
      "174/175 [============================>.] - ETA: 0s - loss: 0.0028 - accuracy: 0.9995\n",
      "Epoch 19: val_accuracy did not improve from 0.98712\n",
      "175/175 [==============================] - 3s 16ms/step - loss: 0.0028 - accuracy: 0.9995 - val_loss: 0.0817 - val_accuracy: 0.9792\n",
      "Epoch 20/40\n",
      "175/175 [==============================] - ETA: 0s - loss: 0.0045 - accuracy: 0.9984\n",
      "Epoch 20: val_accuracy did not improve from 0.98712\n",
      "175/175 [==============================] - 3s 16ms/step - loss: 0.0045 - accuracy: 0.9984 - val_loss: 0.0756 - val_accuracy: 0.9850\n",
      "Epoch 21/40\n",
      "173/175 [============================>.] - ETA: 0s - loss: 0.0036 - accuracy: 0.9993\n",
      "Epoch 21: val_accuracy did not improve from 0.98712\n",
      "175/175 [==============================] - 3s 16ms/step - loss: 0.0036 - accuracy: 0.9993 - val_loss: 0.0796 - val_accuracy: 0.9843\n",
      "Epoch 22/40\n",
      "172/175 [============================>.] - ETA: 0s - loss: 0.0022 - accuracy: 0.9993\n",
      "Epoch 22: val_accuracy did not improve from 0.98712\n",
      "175/175 [==============================] - 3s 17ms/step - loss: 0.0022 - accuracy: 0.9993 - val_loss: 0.0845 - val_accuracy: 0.9850\n",
      "Epoch 23/40\n",
      "175/175 [==============================] - ETA: 0s - loss: 0.0030 - accuracy: 0.9993\n",
      "Epoch 23: val_accuracy did not improve from 0.98712\n",
      "175/175 [==============================] - 3s 16ms/step - loss: 0.0030 - accuracy: 0.9993 - val_loss: 0.0866 - val_accuracy: 0.9850\n",
      "Epoch 24/40\n",
      "174/175 [============================>.] - ETA: 0s - loss: 0.0051 - accuracy: 0.9982\n",
      "Epoch 24: val_accuracy did not improve from 0.98712\n",
      "175/175 [==============================] - 3s 17ms/step - loss: 0.0051 - accuracy: 0.9982 - val_loss: 0.2332 - val_accuracy: 0.9399\n",
      "Epoch 25/40\n",
      "173/175 [============================>.] - ETA: 0s - loss: 0.0073 - accuracy: 0.9982\n",
      "Epoch 25: val_accuracy did not improve from 0.98712\n",
      "175/175 [==============================] - 3s 17ms/step - loss: 0.0072 - accuracy: 0.9982 - val_loss: 0.0712 - val_accuracy: 0.9835\n",
      "Epoch 26/40\n",
      "174/175 [============================>.] - ETA: 0s - loss: 0.0119 - accuracy: 0.9969\n",
      "Epoch 26: val_accuracy did not improve from 0.98712\n",
      "175/175 [==============================] - 3s 17ms/step - loss: 0.0119 - accuracy: 0.9970 - val_loss: 0.0902 - val_accuracy: 0.9828\n",
      "Epoch 27/40\n",
      "174/175 [============================>.] - ETA: 0s - loss: 0.0070 - accuracy: 0.9978\n",
      "Epoch 27: val_accuracy did not improve from 0.98712\n",
      "175/175 [==============================] - 3s 16ms/step - loss: 0.0070 - accuracy: 0.9979 - val_loss: 0.1084 - val_accuracy: 0.9807\n",
      "Epoch 28/40\n",
      "171/175 [============================>.] - ETA: 0s - loss: 0.0031 - accuracy: 0.9991\n",
      "Epoch 28: val_accuracy did not improve from 0.98712\n",
      "175/175 [==============================] - 3s 16ms/step - loss: 0.0031 - accuracy: 0.9991 - val_loss: 0.1068 - val_accuracy: 0.9828\n",
      "Epoch 29/40\n",
      "171/175 [============================>.] - ETA: 0s - loss: 0.0024 - accuracy: 0.9993\n",
      "Epoch 29: val_accuracy did not improve from 0.98712\n",
      "175/175 [==============================] - 3s 16ms/step - loss: 0.0024 - accuracy: 0.9993 - val_loss: 0.1120 - val_accuracy: 0.9828\n",
      "Epoch 30/40\n",
      "174/175 [============================>.] - ETA: 0s - loss: 0.0024 - accuracy: 0.9993\n",
      "Epoch 30: val_accuracy did not improve from 0.98712\n",
      "175/175 [==============================] - 3s 17ms/step - loss: 0.0024 - accuracy: 0.9993 - val_loss: 0.1183 - val_accuracy: 0.9792\n",
      "Epoch 31/40\n",
      "174/175 [============================>.] - ETA: 0s - loss: 0.0023 - accuracy: 0.9987\n",
      "Epoch 31: val_accuracy did not improve from 0.98712\n",
      "175/175 [==============================] - 3s 17ms/step - loss: 0.0023 - accuracy: 0.9987 - val_loss: 0.1086 - val_accuracy: 0.9821\n",
      "Epoch 32/40\n",
      "172/175 [============================>.] - ETA: 0s - loss: 0.0125 - accuracy: 0.9971\n",
      "Epoch 32: val_accuracy did not improve from 0.98712\n",
      "175/175 [==============================] - 3s 17ms/step - loss: 0.0123 - accuracy: 0.9971 - val_loss: 0.1065 - val_accuracy: 0.9814\n",
      "Epoch 33/40\n",
      "175/175 [==============================] - ETA: 0s - loss: 0.0107 - accuracy: 0.9966\n",
      "Epoch 33: val_accuracy did not improve from 0.98712\n",
      "175/175 [==============================] - 3s 17ms/step - loss: 0.0107 - accuracy: 0.9966 - val_loss: 0.1205 - val_accuracy: 0.9728\n",
      "Epoch 34/40\n",
      "175/175 [==============================] - ETA: 0s - loss: 0.0091 - accuracy: 0.9970\n",
      "Epoch 34: val_accuracy did not improve from 0.98712\n",
      "175/175 [==============================] - 3s 17ms/step - loss: 0.0091 - accuracy: 0.9970 - val_loss: 0.0978 - val_accuracy: 0.9800\n",
      "Epoch 35/40\n",
      "172/175 [============================>.] - ETA: 0s - loss: 0.0046 - accuracy: 0.9989\n",
      "Epoch 35: val_accuracy did not improve from 0.98712\n",
      "175/175 [==============================] - 3s 17ms/step - loss: 0.0046 - accuracy: 0.9989 - val_loss: 0.1136 - val_accuracy: 0.9792\n",
      "Epoch 36/40\n",
      "173/175 [============================>.] - ETA: 0s - loss: 0.0026 - accuracy: 0.9993\n",
      "Epoch 36: val_accuracy did not improve from 0.98712\n",
      "175/175 [==============================] - 3s 17ms/step - loss: 0.0026 - accuracy: 0.9993 - val_loss: 0.1111 - val_accuracy: 0.9792\n",
      "Epoch 37/40\n",
      "173/175 [============================>.] - ETA: 0s - loss: 0.0028 - accuracy: 0.9991\n",
      "Epoch 37: val_accuracy did not improve from 0.98712\n",
      "175/175 [==============================] - 3s 17ms/step - loss: 0.0028 - accuracy: 0.9991 - val_loss: 0.1135 - val_accuracy: 0.9807\n",
      "Epoch 38/40\n",
      "174/175 [============================>.] - ETA: 0s - loss: 0.0042 - accuracy: 0.9993\n",
      "Epoch 38: val_accuracy did not improve from 0.98712\n",
      "175/175 [==============================] - 3s 17ms/step - loss: 0.0042 - accuracy: 0.9993 - val_loss: 0.1111 - val_accuracy: 0.9814\n",
      "Epoch 39/40\n",
      "173/175 [============================>.] - ETA: 0s - loss: 0.0022 - accuracy: 0.9993\n",
      "Epoch 39: val_accuracy did not improve from 0.98712\n",
      "175/175 [==============================] - 3s 17ms/step - loss: 0.0022 - accuracy: 0.9993 - val_loss: 0.1114 - val_accuracy: 0.9821\n",
      "Epoch 40/40\n",
      "175/175 [==============================] - ETA: 0s - loss: 0.0022 - accuracy: 0.9993\n",
      "Epoch 40: val_accuracy did not improve from 0.98712\n",
      "175/175 [==============================] - 3s 16ms/step - loss: 0.0022 - accuracy: 0.9993 - val_loss: 0.1208 - val_accuracy: 0.9800\n"
     ]
    },
    {
     "data": {
      "text/plain": [
       "<keras.callbacks.History at 0x24b7cd88d30>"
      ]
     },
     "execution_count": 16,
     "metadata": {},
     "output_type": "execute_result"
    }
   ],
   "source": [
    "model.fit(x_train,y_train,validation_data=(x_test,y_test),epochs=30,batch_size=32,callbacks=[checkpoint])"
   ]
  },
  {
   "cell_type": "code",
   "execution_count": 17,
   "metadata": {
    "ExecuteTime": {
     "end_time": "2023-06-19T10:07:19.404606900Z",
     "start_time": "2023-06-19T10:07:19.357352300Z"
    },
    "collapsed": false
   },
   "outputs": [],
   "source": [
    "test_sent=\"\"\"\n",
    "I've been the most anxious person before I became the most sincere person, I've also been the most worried person before it all ended\n",
    "\"\"\""
   ]
  },
  {
   "cell_type": "code",
   "execution_count": 18,
   "metadata": {
    "ExecuteTime": {
     "end_time": "2023-06-19T10:07:19.404606900Z",
     "start_time": "2023-06-19T10:07:19.372960400Z"
    },
    "collapsed": false
   },
   "outputs": [],
   "source": [
    "def preprocess_text(text):\n",
    "    text=simple_preprocess(text)\n",
    "    word_list=[lemmertizer.lemmatize(word) for word in text if word not in set(stopwords.words('english'))]\n",
    "    words = ' '.join(word_list)\n",
    "    one_hot_rep= [one_hot(words,voc_size)]\n",
    "    embeded_list=pad_sequences(one_hot_rep,padding='pre',maxlen=em_len)\n",
    "    return embeded_list"
   ]
  },
  {
   "cell_type": "code",
   "execution_count": 19,
   "metadata": {
    "ExecuteTime": {
     "end_time": "2023-06-19T10:07:20.945699Z",
     "start_time": "2023-06-19T10:07:19.404606900Z"
    },
    "collapsed": false
   },
   "outputs": [
    {
     "name": "stdout",
     "output_type": "stream",
     "text": [
      "1/1 [==============================] - 1s 614ms/step\n"
     ]
    }
   ],
   "source": [
    "model=load_model('nlp_model.h5')\n",
    "pred=model.predict(preprocess_text(test_sent))"
   ]
  },
  {
   "cell_type": "code",
   "execution_count": 20,
   "metadata": {
    "ExecuteTime": {
     "end_time": "2023-06-19T10:07:20.992430300Z",
     "start_time": "2023-06-19T10:07:20.945699Z"
    },
    "collapsed": false
   },
   "outputs": [
    {
     "name": "stdout",
     "output_type": "stream",
     "text": [
      "has dipressed\n"
     ]
    }
   ],
   "source": [
    "if pred>0.5:\n",
    "    print(\"has dipressed\")\n",
    "else:\n",
    "    print('not dipressed')"
   ]
  },
  {
   "cell_type": "code",
   "execution_count": 21,
   "metadata": {
    "ExecuteTime": {
     "end_time": "2023-06-19T10:07:38.637260800Z",
     "start_time": "2023-06-19T10:07:38.574700100Z"
    },
    "collapsed": false
   },
   "outputs": [
    {
     "name": "stdout",
     "output_type": "stream",
     "text": [
      "[[0.99953616]]\n"
     ]
    }
   ],
   "source": [
    "print(pred)"
   ]
  },
  {
   "cell_type": "code",
   "execution_count": null,
   "metadata": {
    "collapsed": false
   },
   "outputs": [],
   "source": []
  }
 ],
 "metadata": {
  "kernelspec": {
   "display_name": "Python 3",
   "language": "python",
   "name": "python3"
  },
  "language_info": {
   "codemirror_mode": {
    "name": "ipython",
    "version": 2
   },
   "file_extension": ".py",
   "mimetype": "text/x-python",
   "name": "python",
   "nbconvert_exporter": "python",
   "pygments_lexer": "ipython2",
   "version": "3.11.3"
  }
 },
 "nbformat": 4,
 "nbformat_minor": 0
}
