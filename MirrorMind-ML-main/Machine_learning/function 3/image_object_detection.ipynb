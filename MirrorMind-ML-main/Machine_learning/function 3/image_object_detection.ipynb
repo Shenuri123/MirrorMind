{
 "cells": [
  {
   "cell_type": "code",
   "execution_count": 1,
   "metadata": {
    "collapsed": true,
    "ExecuteTime": {
     "end_time": "2023-09-02T12:15:35.195493800Z",
     "start_time": "2023-09-02T12:15:31.211779Z"
    }
   },
   "outputs": [],
   "source": [
    "from ultralytics import YOLO"
   ]
  },
  {
   "cell_type": "code",
   "execution_count": 2,
   "outputs": [
    {
     "name": "stderr",
     "output_type": "stream",
     "text": [
      "\n",
      "image 1/1 P:\\SilverlineIT\\mirror-mind\\git\\MirrorMind-ML\\Machine_learning\\function 3\\img.png: 448x640 4 persons, 1 car, 1 bus, 1 potted plant, 306.5ms\n",
      "Speed: 5.8ms preprocess, 306.5ms inference, 13.1ms postprocess per image at shape (1, 3, 640, 640)\n",
      "Results saved to \u001B[1mruns\\detect\\predict\u001B[0m\n"
     ]
    }
   ],
   "source": [
    "# Load a model\n",
    "model = YOLO('yolov8s.pt')  # load a custom model\n",
    "# Predict with the model\n",
    "results = model('img.png',save=True, imgsz=640, conf=0.4)"
   ],
   "metadata": {
    "collapsed": false,
    "ExecuteTime": {
     "end_time": "2023-09-02T12:15:42.213776Z",
     "start_time": "2023-09-02T12:15:38.202167200Z"
    }
   }
  },
  {
   "cell_type": "code",
   "execution_count": 10,
   "outputs": [
    {
     "data": {
      "text/plain": "[ultralytics.yolo.engine.results.Results object with attributes:\n \n boxes: ultralytics.yolo.engine.results.Boxes object\n keypoints: None\n keys: ['boxes']\n masks: None\n names: {0: 'person', 1: 'bicycle', 2: 'car', 3: 'motorcycle', 4: 'airplane', 5: 'bus', 6: 'train', 7: 'truck', 8: 'boat', 9: 'traffic light', 10: 'fire hydrant', 11: 'stop sign', 12: 'parking meter', 13: 'bench', 14: 'bird', 15: 'cat', 16: 'dog', 17: 'horse', 18: 'sheep', 19: 'cow', 20: 'elephant', 21: 'bear', 22: 'zebra', 23: 'giraffe', 24: 'backpack', 25: 'umbrella', 26: 'handbag', 27: 'tie', 28: 'suitcase', 29: 'frisbee', 30: 'skis', 31: 'snowboard', 32: 'sports ball', 33: 'kite', 34: 'baseball bat', 35: 'baseball glove', 36: 'skateboard', 37: 'surfboard', 38: 'tennis racket', 39: 'bottle', 40: 'wine glass', 41: 'cup', 42: 'fork', 43: 'knife', 44: 'spoon', 45: 'bowl', 46: 'banana', 47: 'apple', 48: 'sandwich', 49: 'orange', 50: 'broccoli', 51: 'carrot', 52: 'hot dog', 53: 'pizza', 54: 'donut', 55: 'cake', 56: 'chair', 57: 'couch', 58: 'potted plant', 59: 'bed', 60: 'dining table', 61: 'toilet', 62: 'tv', 63: 'laptop', 64: 'mouse', 65: 'remote', 66: 'keyboard', 67: 'cell phone', 68: 'microwave', 69: 'oven', 70: 'toaster', 71: 'sink', 72: 'refrigerator', 73: 'book', 74: 'clock', 75: 'vase', 76: 'scissors', 77: 'teddy bear', 78: 'hair drier', 79: 'toothbrush'}\n orig_img: array([[[ 28,  24,  19],\n         [ 25,  21,  16],\n         [ 25,  21,  16],\n         ...,\n         [ 87,  74,  60],\n         [ 96,  83,  67],\n         [108,  95,  79]],\n \n        [[ 23,  19,  14],\n         [ 27,  23,  18],\n         [ 27,  23,  18],\n         ...,\n         [ 88,  75,  61],\n         [ 97,  84,  68],\n         [108,  95,  79]],\n \n        [[ 26,  23,  15],\n         [ 23,  20,  12],\n         [ 23,  20,  12],\n         ...,\n         [ 90,  77,  63],\n         [100,  87,  71],\n         [111,  98,  82]],\n \n        ...,\n \n        [[ 91,  87,  86],\n         [ 96,  92,  91],\n         [ 91,  87,  86],\n         ...,\n         [ 97,  89,  89],\n         [ 98,  90,  90],\n         [ 96,  88,  88]],\n \n        [[ 90,  86,  85],\n         [ 94,  90,  89],\n         [ 87,  83,  82],\n         ...,\n         [ 93,  85,  85],\n         [ 96,  88,  88],\n         [ 93,  85,  85]],\n \n        [[ 93,  89,  88],\n         [ 97,  93,  92],\n         [ 90,  86,  85],\n         ...,\n         [ 92,  84,  84],\n         [ 96,  88,  88],\n         [ 93,  85,  85]]], dtype=uint8)\n orig_shape: (860, 1290)\n path: 'P:\\\\SilverlineIT\\\\mirror-mind\\\\git\\\\MirrorMind-ML\\\\Machine learning\\\\function 3\\\\img.png'\n probs: None\n speed: {'preprocess': 5.005836486816406, 'inference': 215.21353721618652, 'postprocess': 0.0}]"
     },
     "execution_count": 10,
     "metadata": {},
     "output_type": "execute_result"
    }
   ],
   "source": [
    "results"
   ],
   "metadata": {
    "collapsed": false,
    "ExecuteTime": {
     "end_time": "2023-06-15T04:01:00.587594800Z",
     "start_time": "2023-06-15T04:01:00.577436100Z"
    }
   }
  },
  {
   "cell_type": "code",
   "execution_count": 20,
   "outputs": [
    {
     "name": "stdout",
     "output_type": "stream",
     "text": [
      "car\n",
      "potted plant\n",
      "person\n",
      "bus\n",
      "person\n",
      "person\n",
      "person\n"
     ]
    }
   ],
   "source": [
    "for result in results:\n",
    "    boxes = result.boxes.cpu().numpy()                         # get boxes on cpu in numpy\n",
    "    for box in boxes:                                          # iterate boxes\n",
    "        r = box.xyxy[0].astype(int)                            # get corner points as int\n",
    "        print(result.names[int(box.cls[0])])"
   ],
   "metadata": {
    "collapsed": false,
    "ExecuteTime": {
     "end_time": "2023-06-15T04:10:10.766214400Z",
     "start_time": "2023-06-15T04:10:10.748738300Z"
    }
   }
  },
  {
   "cell_type": "code",
   "execution_count": null,
   "outputs": [],
   "source": [],
   "metadata": {
    "collapsed": false
   }
  }
 ],
 "metadata": {
  "kernelspec": {
   "display_name": "Python 3",
   "language": "python",
   "name": "python3"
  },
  "language_info": {
   "codemirror_mode": {
    "name": "ipython",
    "version": 2
   },
   "file_extension": ".py",
   "mimetype": "text/x-python",
   "name": "python",
   "nbconvert_exporter": "python",
   "pygments_lexer": "ipython2",
   "version": "2.7.6"
  }
 },
 "nbformat": 4,
 "nbformat_minor": 0
}
