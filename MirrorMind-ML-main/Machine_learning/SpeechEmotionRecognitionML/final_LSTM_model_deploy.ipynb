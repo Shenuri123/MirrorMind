{
 "cells": [
  {
   "cell_type": "markdown",
   "metadata": {},
   "source": [
    "# Final Long Short-Term Memory (LSTM) Model Deploy"
   ]
  },
  {
   "cell_type": "markdown",
   "metadata": {},
   "source": [
    "### Import Necessary Modules"
   ]
  },
  {
   "cell_type": "code",
   "execution_count": 1,
   "metadata": {},
   "outputs": [],
   "source": [
    "import librosa\n",
    "import numpy as np\n",
    "from keras.models import load_model\n",
    "from sklearn.preprocessing import OneHotEncoder"
   ]
  },
  {
   "cell_type": "markdown",
   "metadata": {},
   "source": [
    "## Final Prediction Script"
   ]
  },
  {
   "cell_type": "code",
   "execution_count": 4,
   "metadata": {},
   "outputs": [
    {
     "name": "stdout",
     "output_type": "stream",
     "text": [
      "1/1 [==============================] - 0s 298ms/step\n",
      "1/1 [==============================] - 0s 28ms/step\n",
      "1/1 [==============================] - 0s 30ms/step\n",
      "1/1 [==============================] - 0s 23ms/step\n",
      "1/1 [==============================] - 0s 20ms/step\n",
      "1/1 [==============================] - 0s 22ms/step\n",
      "1/1 [==============================] - 0s 19ms/step\n",
      "1/1 [==============================] - 0s 22ms/step\n",
      "sad: 12.50%\n",
      "fear: 12.50%\n",
      "disgust: 75.00%\n"
     ]
    }
   ],
   "source": [
    "# Load the trained emotion recognition model\n",
    "model = load_model('final_LSTM_best_model.h5')\n",
    "\n",
    "# Load the encoder for emotion labels\n",
    "## load the same encoder that was used during model training\n",
    "## Define the emotion labels here (in the same order as used during training)\n",
    "emotion_labels = ['angry', 'disgust', 'fear', 'happy', 'neutral', 'sad', 'ps']\n",
    "enc = OneHotEncoder(sparse_output=False)\n",
    "enc.fit(np.array(emotion_labels).reshape(-1, 1))\n",
    "\n",
    "# Create a mapping from emotion labels to integers\n",
    "label_to_int = {label: i for i, label in enumerate(emotion_labels)}\n",
    "\n",
    "# Function to extract MFCC features from an audio segment\n",
    "def extract_mfcc(y, sr):\n",
    "    mfcc = np.mean(librosa.feature.mfcc(y=y, sr=sr, n_mfcc=40).T, axis=0)\n",
    "    return mfcc\n",
    "\n",
    "# Function to predict emotion for a single segment\n",
    "def predict_emotion(segment):\n",
    "    # Extract MFCC features\n",
    "    mfcc = extract_mfcc(segment, sampling_rate)\n",
    "    \n",
    "    # Reshape for model input\n",
    "    mfcc = mfcc.reshape(1, mfcc.shape[0], 1)\n",
    "    \n",
    "    # Predict emotion\n",
    "    emotion_probabilities = model.predict(mfcc)\n",
    "    \n",
    "    return emotion_probabilities\n",
    "\n",
    "\n",
    "# Load a audio file (replace with the audio file)\n",
    "audio_path = './TestingAudio/audio1.wav'\n",
    "\n",
    "# Split long audio into overlapping segments\n",
    "segment_length = 3  # Length of each segment in seconds\n",
    "overlap = 0.0  # Overlap between segments in seconds\n",
    "sampling_rate = 22050  # Replace with the appropriate sampling rate\n",
    "segments = []\n",
    "\n",
    "# Split the audio into overlapping segments\n",
    "y, _ = librosa.load(audio_path, sr=sampling_rate)\n",
    "for start in np.arange(0, len(y), int((segment_length - overlap) * sampling_rate)):\n",
    "    end = int(start + segment_length * sampling_rate)\n",
    "    segment = y[start:end]\n",
    "    segments.append(segment)\n",
    "\n",
    "# Predict emotions for all segments\n",
    "emotion_predictions = []\n",
    "for segment in segments:\n",
    "    emotion_probabilities = predict_emotion(segment)\n",
    "    emotion_predictions.append(emotion_probabilities)\n",
    "\n",
    "# Convert aggregated probabilities to emotion labels for all segments\n",
    "emotion_labels_for_segments = [enc.inverse_transform(emotion_probabilities).flatten()[0] for emotion_probabilities in emotion_predictions]\n",
    "\n",
    "# Calculate the percentage of each emotion\n",
    "total_segments = len(emotion_labels_for_segments)\n",
    "emotion_percentages = {label: emotion_labels_for_segments.count(label) / total_segments * 100 for label in set(emotion_labels_for_segments)}\n",
    "\n",
    "# Return the emotions and their percentages\n",
    "emotions_and_percentages = {emotion: percentage for emotion, percentage in emotion_percentages.items()}\n",
    "\n",
    "for emotion, percentage in emotions_and_percentages.items():\n",
    "    print(f'{emotion}: {percentage:.2f}%')"
   ]
  }
 ],
 "metadata": {
  "kernelspec": {
   "display_name": "mirromind-dev",
   "language": "python",
   "name": "python3"
  },
  "language_info": {
   "codemirror_mode": {
    "name": "ipython",
    "version": 3
   },
   "file_extension": ".py",
   "mimetype": "text/x-python",
   "name": "python",
   "nbconvert_exporter": "python",
   "pygments_lexer": "ipython3",
   "version": "3.10.13"
  }
 },
 "nbformat": 4,
 "nbformat_minor": 2
}
